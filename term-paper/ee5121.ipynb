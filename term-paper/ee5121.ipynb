{
  "nbformat": 4,
  "nbformat_minor": 0,
  "metadata": {
    "colab": {
      "name": "ee5121.ipynb",
      "provenance": [],
      "collapsed_sections": []
    },
    "kernelspec": {
      "name": "python3",
      "display_name": "Python 3"
    },
    "accelerator": "GPU",
    "widgets": {
      "application/vnd.jupyter.widget-state+json": {
        "1e5242917b3e41cca18e80a3674cf7bc": {
          "model_module": "@jupyter-widgets/controls",
          "model_name": "HBoxModel",
          "state": {
            "_view_name": "HBoxView",
            "_dom_classes": [],
            "_model_name": "HBoxModel",
            "_view_module": "@jupyter-widgets/controls",
            "_model_module_version": "1.5.0",
            "_view_count": null,
            "_view_module_version": "1.5.0",
            "box_style": "",
            "layout": "IPY_MODEL_4a5aa47c38ad430caf5f6a664ff76215",
            "_model_module": "@jupyter-widgets/controls",
            "children": [
              "IPY_MODEL_22b0184cf4854ac7bfee22a7978e83ba",
              "IPY_MODEL_fd8c37e77ecc4cb7a1055bb6dc751439"
            ]
          }
        },
        "4a5aa47c38ad430caf5f6a664ff76215": {
          "model_module": "@jupyter-widgets/base",
          "model_name": "LayoutModel",
          "state": {
            "_view_name": "LayoutView",
            "grid_template_rows": null,
            "right": null,
            "justify_content": null,
            "_view_module": "@jupyter-widgets/base",
            "overflow": null,
            "_model_module_version": "1.2.0",
            "_view_count": null,
            "flex_flow": null,
            "width": null,
            "min_width": null,
            "border": null,
            "align_items": null,
            "bottom": null,
            "_model_module": "@jupyter-widgets/base",
            "top": null,
            "grid_column": null,
            "overflow_y": null,
            "overflow_x": null,
            "grid_auto_flow": null,
            "grid_area": null,
            "grid_template_columns": null,
            "flex": null,
            "_model_name": "LayoutModel",
            "justify_items": null,
            "grid_row": null,
            "max_height": null,
            "align_content": null,
            "visibility": null,
            "align_self": null,
            "height": null,
            "min_height": null,
            "padding": null,
            "grid_auto_rows": null,
            "grid_gap": null,
            "max_width": null,
            "order": null,
            "_view_module_version": "1.2.0",
            "grid_template_areas": null,
            "object_position": null,
            "object_fit": null,
            "grid_auto_columns": null,
            "margin": null,
            "display": null,
            "left": null
          }
        },
        "22b0184cf4854ac7bfee22a7978e83ba": {
          "model_module": "@jupyter-widgets/controls",
          "model_name": "FloatProgressModel",
          "state": {
            "_view_name": "ProgressView",
            "style": "IPY_MODEL_eea16dfe2fd94326abaae10e31f89427",
            "_dom_classes": [],
            "description": "",
            "_model_name": "FloatProgressModel",
            "bar_style": "info",
            "max": 1,
            "_view_module": "@jupyter-widgets/controls",
            "_model_module_version": "1.5.0",
            "value": 1,
            "_view_count": null,
            "_view_module_version": "1.5.0",
            "orientation": "horizontal",
            "min": 0,
            "description_tooltip": null,
            "_model_module": "@jupyter-widgets/controls",
            "layout": "IPY_MODEL_f00ffa868bcb41dfa4dcefb218764660"
          }
        },
        "fd8c37e77ecc4cb7a1055bb6dc751439": {
          "model_module": "@jupyter-widgets/controls",
          "model_name": "HTMLModel",
          "state": {
            "_view_name": "HTMLView",
            "style": "IPY_MODEL_ad0913c1094047a9b431bd44e7716018",
            "_dom_classes": [],
            "description": "",
            "_model_name": "HTMLModel",
            "placeholder": "​",
            "_view_module": "@jupyter-widgets/controls",
            "_model_module_version": "1.5.0",
            "value": " 170500096/? [00:20&lt;00:00, 31051661.33it/s]",
            "_view_count": null,
            "_view_module_version": "1.5.0",
            "description_tooltip": null,
            "_model_module": "@jupyter-widgets/controls",
            "layout": "IPY_MODEL_c7e08a44cbe74a5a9a2c39c1e319bbdd"
          }
        },
        "eea16dfe2fd94326abaae10e31f89427": {
          "model_module": "@jupyter-widgets/controls",
          "model_name": "ProgressStyleModel",
          "state": {
            "_view_name": "StyleView",
            "_model_name": "ProgressStyleModel",
            "description_width": "initial",
            "_view_module": "@jupyter-widgets/base",
            "_model_module_version": "1.5.0",
            "_view_count": null,
            "_view_module_version": "1.2.0",
            "bar_color": null,
            "_model_module": "@jupyter-widgets/controls"
          }
        },
        "f00ffa868bcb41dfa4dcefb218764660": {
          "model_module": "@jupyter-widgets/base",
          "model_name": "LayoutModel",
          "state": {
            "_view_name": "LayoutView",
            "grid_template_rows": null,
            "right": null,
            "justify_content": null,
            "_view_module": "@jupyter-widgets/base",
            "overflow": null,
            "_model_module_version": "1.2.0",
            "_view_count": null,
            "flex_flow": null,
            "width": null,
            "min_width": null,
            "border": null,
            "align_items": null,
            "bottom": null,
            "_model_module": "@jupyter-widgets/base",
            "top": null,
            "grid_column": null,
            "overflow_y": null,
            "overflow_x": null,
            "grid_auto_flow": null,
            "grid_area": null,
            "grid_template_columns": null,
            "flex": null,
            "_model_name": "LayoutModel",
            "justify_items": null,
            "grid_row": null,
            "max_height": null,
            "align_content": null,
            "visibility": null,
            "align_self": null,
            "height": null,
            "min_height": null,
            "padding": null,
            "grid_auto_rows": null,
            "grid_gap": null,
            "max_width": null,
            "order": null,
            "_view_module_version": "1.2.0",
            "grid_template_areas": null,
            "object_position": null,
            "object_fit": null,
            "grid_auto_columns": null,
            "margin": null,
            "display": null,
            "left": null
          }
        },
        "ad0913c1094047a9b431bd44e7716018": {
          "model_module": "@jupyter-widgets/controls",
          "model_name": "DescriptionStyleModel",
          "state": {
            "_view_name": "StyleView",
            "_model_name": "DescriptionStyleModel",
            "description_width": "",
            "_view_module": "@jupyter-widgets/base",
            "_model_module_version": "1.5.0",
            "_view_count": null,
            "_view_module_version": "1.2.0",
            "_model_module": "@jupyter-widgets/controls"
          }
        },
        "c7e08a44cbe74a5a9a2c39c1e319bbdd": {
          "model_module": "@jupyter-widgets/base",
          "model_name": "LayoutModel",
          "state": {
            "_view_name": "LayoutView",
            "grid_template_rows": null,
            "right": null,
            "justify_content": null,
            "_view_module": "@jupyter-widgets/base",
            "overflow": null,
            "_model_module_version": "1.2.0",
            "_view_count": null,
            "flex_flow": null,
            "width": null,
            "min_width": null,
            "border": null,
            "align_items": null,
            "bottom": null,
            "_model_module": "@jupyter-widgets/base",
            "top": null,
            "grid_column": null,
            "overflow_y": null,
            "overflow_x": null,
            "grid_auto_flow": null,
            "grid_area": null,
            "grid_template_columns": null,
            "flex": null,
            "_model_name": "LayoutModel",
            "justify_items": null,
            "grid_row": null,
            "max_height": null,
            "align_content": null,
            "visibility": null,
            "align_self": null,
            "height": null,
            "min_height": null,
            "padding": null,
            "grid_auto_rows": null,
            "grid_gap": null,
            "max_width": null,
            "order": null,
            "_view_module_version": "1.2.0",
            "grid_template_areas": null,
            "object_position": null,
            "object_fit": null,
            "grid_auto_columns": null,
            "margin": null,
            "display": null,
            "left": null
          }
        }
      }
    }
  },
  "cells": [
    {
      "cell_type": "code",
      "metadata": {
        "id": "oBqL_SFDB_8V",
        "colab_type": "code",
        "colab": {
          "base_uri": "https://localhost:8080/",
          "height": 364
        },
        "outputId": "ed724a0a-3b06-42bc-8dd6-89df50ba5b92"
      },
      "source": [
        "!nvidia-smi"
      ],
      "execution_count": 1,
      "outputs": [
        {
          "output_type": "stream",
          "text": [
            "Wed Jul 15 06:57:22 2020       \n",
            "+-----------------------------------------------------------------------------+\n",
            "| NVIDIA-SMI 450.51.05    Driver Version: 418.67       CUDA Version: 10.1     |\n",
            "|-------------------------------+----------------------+----------------------+\n",
            "| GPU  Name        Persistence-M| Bus-Id        Disp.A | Volatile Uncorr. ECC |\n",
            "| Fan  Temp  Perf  Pwr:Usage/Cap|         Memory-Usage | GPU-Util  Compute M. |\n",
            "|                               |                      |               MIG M. |\n",
            "|===============================+======================+======================|\n",
            "|   0  Tesla T4            Off  | 00000000:00:04.0 Off |                    0 |\n",
            "| N/A   48C    P8    10W /  70W |      0MiB / 15079MiB |      0%      Default |\n",
            "|                               |                      |                 ERR! |\n",
            "+-------------------------------+----------------------+----------------------+\n",
            "                                                                               \n",
            "+-----------------------------------------------------------------------------+\n",
            "| Processes:                                                                  |\n",
            "|  GPU   GI   CI        PID   Type   Process name                  GPU Memory |\n",
            "|        ID   ID                                                   Usage      |\n",
            "|=============================================================================|\n",
            "|  No running processes found                                                 |\n",
            "+-----------------------------------------------------------------------------+\n"
          ],
          "name": "stdout"
        }
      ]
    },
    {
      "cell_type": "code",
      "metadata": {
        "id": "JwSlNbF8Jkyv",
        "colab_type": "code",
        "colab": {}
      },
      "source": [
        "import jax.numpy as np\n",
        "from jax import grad, jit, vmap\n",
        "from jax import random\n",
        "import numpy as rnp\n",
        "import matplotlib.pyplot as plt\n",
        "from tqdm import tqdm"
      ],
      "execution_count": 2,
      "outputs": []
    },
    {
      "cell_type": "code",
      "metadata": {
        "id": "-3enzZWtJ-J1",
        "colab_type": "code",
        "colab": {}
      },
      "source": [
        "def loss(X,w,y):\n",
        "  yhat = X@w\n",
        "  return (np.linalg.norm(y-yhat)**2) #/(2*y.shape[0])"
      ],
      "execution_count": 3,
      "outputs": []
    },
    {
      "cell_type": "code",
      "metadata": {
        "id": "X49cdAZhKmfX",
        "colab_type": "code",
        "colab": {}
      },
      "source": [
        "grad_loss = jit(grad(loss, argnums=1))"
      ],
      "execution_count": 4,
      "outputs": []
    },
    {
      "cell_type": "code",
      "metadata": {
        "id": "iPgMPS8fJKjL",
        "colab_type": "code",
        "colab": {}
      },
      "source": [
        "def smd_update(i,w,X,y,lr=0.001,p=2,decay=1):\n",
        "  dw = grad_loss(X,w,y)\n",
        "  update = p*((np.abs(w))**(p-1))*np.sign(w) - lr*(decay)**i*dw\n",
        "  w_ = (np.abs(update/p)**(1/(p-1)))*np.sign(update)\n",
        "\n",
        "  return w_"
      ],
      "execution_count": 5,
      "outputs": []
    },
    {
      "cell_type": "code",
      "metadata": {
        "id": "BKFKu6aMmeqA",
        "colab_type": "code",
        "colab": {}
      },
      "source": [
        "d = 1000"
      ],
      "execution_count": 6,
      "outputs": []
    },
    {
      "cell_type": "code",
      "metadata": {
        "id": "wHD6ZrlXM4Sa",
        "colab_type": "code",
        "colab": {}
      },
      "source": [
        "def generate_data(n=100,d=d):\n",
        "  X = rnp.random.random(size=(n,d))\n",
        "  for i in range(n):\n",
        "    X[i] = X[i]/rnp.linalg.norm(X[i])\n",
        "  \n",
        "  w_gold = rnp.random.random(size=d)\n",
        "  y = X@w_gold\n",
        "\n",
        "  y = rnp.random.random(size=n)\n",
        "  assert rnp.linalg.matrix_rank(X) == n\n",
        "  return X,y,w_gold"
      ],
      "execution_count": 7,
      "outputs": []
    },
    {
      "cell_type": "markdown",
      "metadata": {
        "id": "5sCtLLedna62",
        "colab_type": "text"
      },
      "source": [
        "# **Experiment 1**\n",
        "## hist of different p-norm SMD for a given parameterization ratio\n",
        "## convegence rate of different p-norm SMD for a given parameterization ratio"
      ]
    },
    {
      "cell_type": "code",
      "metadata": {
        "id": "IIeaVAn8moFN",
        "colab_type": "code",
        "colab": {}
      },
      "source": [
        "X, y, w_gold = generate_data()"
      ],
      "execution_count": 8,
      "outputs": []
    },
    {
      "cell_type": "code",
      "metadata": {
        "id": "IlImMUw06dm4",
        "colab_type": "code",
        "colab": {
          "base_uri": "https://localhost:8080/",
          "height": 69
        },
        "outputId": "0815ed2c-2724-4e41-894b-9a12a9a92307"
      },
      "source": [
        "a,_,_,_ = np.linalg.lstsq(X,y)\n",
        "print(np.linalg.norm(X@w_gold-y))\n",
        "print(np.linalg.norm(X@a-y))\n",
        "print(np.linalg.norm(a-w_gold))"
      ],
      "execution_count": 9,
      "outputs": [
        {
          "output_type": "stream",
          "text": [
            "133.34274\n",
            "3.152873e-06\n",
            "18.662031\n"
          ],
          "name": "stdout"
        }
      ]
    },
    {
      "cell_type": "code",
      "metadata": {
        "id": "BI_A2U-KgdnL",
        "colab_type": "code",
        "colab": {}
      },
      "source": [
        "lr_dict = {1.1:0.01,2:0.01,3:.001, 10:0.0001}\n",
        "decay_dict = {1.1:1,2:1,3:1,10:0.999}"
      ],
      "execution_count": 10,
      "outputs": []
    },
    {
      "cell_type": "code",
      "metadata": {
        "id": "fGc9N2r1QVGr",
        "colab_type": "code",
        "colab": {
          "base_uri": "https://localhost:8080/",
          "height": 851
        },
        "outputId": "e2d70121-99c0-4b1c-eceb-5d749e61cb3f"
      },
      "source": [
        "norms = [1.1,2,3,10]\n",
        "epochs = 10000\n",
        "L = rnp.zeros((len(norms),epochs))\n",
        "weights = rnp.zeros((len(norms),d))\n",
        "w_init = rnp.random.normal(loc=0,scale=1e-2,size=d)\n",
        "for k, norm in enumerate(norms):\n",
        "  print('norm:{}'.format(norm))\n",
        "  l = rnp.zeros(epochs)\n",
        "  w = w_init.copy()\n",
        "  for i in tqdm(range(epochs)):\n",
        "    l[i] = loss(X,w,y)\n",
        "    w = smd_update(i,w,X,y,lr=lr_dict[norm],p=norm, decay=decay_dict[norm])\n",
        "    if i%1000 == 0:\n",
        "      print('Epoch:{}, Loss:{}'.format(i,l[i]))\n",
        "  # if norm < 5.0:\n",
        "  #   for i in tqdm(range(epochs)):\n",
        "  #     l[i] = loss(X,w,y)\n",
        "  #     w = smd_update(i,w,X,y,lr=0.01,p=norm, decay=1)\n",
        "  #     if i%1000 == 0:\n",
        "  #       print('Epoch:{}, Loss:{}'.format(i,l[i]))\n",
        "  # else:\n",
        "  #   for i in tqdm(range(epochs)):\n",
        "  #     l[i] = loss(X,w,y)\n",
        "  #     w = smd_update(i,w,X,y,lr=0.0001,p=norm, decay=0.999)\n",
        "  #     if i%1000 == 0:\n",
        "  #       print('Epoch:{}, Loss:{}'.format(i,l[i]))\n",
        "\n",
        "  L[k] = l\n",
        "  weights[k] = w"
      ],
      "execution_count": 11,
      "outputs": [
        {
          "output_type": "stream",
          "text": [
            "\r  0%|          | 0/10000 [00:00<?, ?it/s]"
          ],
          "name": "stderr"
        },
        {
          "output_type": "stream",
          "text": [
            "norm:1.1\n"
          ],
          "name": "stdout"
        },
        {
          "output_type": "stream",
          "text": [
            "  0%|          | 21/10000 [00:00<1:14:17,  2.24it/s]"
          ],
          "name": "stderr"
        },
        {
          "output_type": "stream",
          "text": [
            "Epoch:0, Loss:32.122344970703125\n"
          ],
          "name": "stdout"
        },
        {
          "output_type": "stream",
          "text": [
            " 10%|█         | 1021/10000 [00:05<00:45, 197.25it/s]"
          ],
          "name": "stderr"
        },
        {
          "output_type": "stream",
          "text": [
            "Epoch:1000, Loss:0.03395462781190872\n"
          ],
          "name": "stdout"
        },
        {
          "output_type": "stream",
          "text": [
            " 20%|██        | 2036/10000 [00:11<00:41, 193.95it/s]"
          ],
          "name": "stderr"
        },
        {
          "output_type": "stream",
          "text": [
            "Epoch:2000, Loss:0.0010838857851922512\n"
          ],
          "name": "stdout"
        },
        {
          "output_type": "stream",
          "text": [
            " 30%|███       | 3034/10000 [00:16<00:35, 194.23it/s]"
          ],
          "name": "stderr"
        },
        {
          "output_type": "stream",
          "text": [
            "Epoch:3000, Loss:7.496456237277016e-05\n"
          ],
          "name": "stdout"
        },
        {
          "output_type": "stream",
          "text": [
            " 40%|████      | 4033/10000 [00:21<00:31, 190.38it/s]"
          ],
          "name": "stderr"
        },
        {
          "output_type": "stream",
          "text": [
            "Epoch:4000, Loss:6.891663815622451e-06\n"
          ],
          "name": "stdout"
        },
        {
          "output_type": "stream",
          "text": [
            " 50%|█████     | 5035/10000 [00:26<00:27, 183.65it/s]"
          ],
          "name": "stderr"
        },
        {
          "output_type": "stream",
          "text": [
            "Epoch:5000, Loss:8.508087034897471e-07\n"
          ],
          "name": "stdout"
        },
        {
          "output_type": "stream",
          "text": [
            " 60%|██████    | 6038/10000 [00:31<00:20, 191.84it/s]"
          ],
          "name": "stderr"
        },
        {
          "output_type": "stream",
          "text": [
            "Epoch:6000, Loss:2.400190624030074e-07\n"
          ],
          "name": "stdout"
        },
        {
          "output_type": "stream",
          "text": [
            " 70%|███████   | 7036/10000 [00:37<00:15, 193.47it/s]"
          ],
          "name": "stderr"
        },
        {
          "output_type": "stream",
          "text": [
            "Epoch:7000, Loss:1.5335770342517208e-07\n"
          ],
          "name": "stdout"
        },
        {
          "output_type": "stream",
          "text": [
            " 80%|████████  | 8021/10000 [00:42<00:10, 187.32it/s]"
          ],
          "name": "stderr"
        },
        {
          "output_type": "stream",
          "text": [
            "Epoch:8000, Loss:1.26490419916081e-07\n"
          ],
          "name": "stdout"
        },
        {
          "output_type": "stream",
          "text": [
            " 90%|█████████ | 9036/10000 [00:47<00:05, 191.30it/s]"
          ],
          "name": "stderr"
        },
        {
          "output_type": "stream",
          "text": [
            "Epoch:9000, Loss:1.1453935400140836e-07\n"
          ],
          "name": "stdout"
        },
        {
          "output_type": "stream",
          "text": [
            "100%|██████████| 10000/10000 [00:52<00:00, 189.43it/s]\n",
            "  0%|          | 19/10000 [00:00<00:55, 180.81it/s]"
          ],
          "name": "stderr"
        },
        {
          "output_type": "stream",
          "text": [
            "norm:2\n",
            "Epoch:0, Loss:32.122344970703125\n"
          ],
          "name": "stdout"
        },
        {
          "output_type": "stream",
          "text": [
            " 10%|█         | 1030/10000 [00:05<00:45, 196.29it/s]"
          ],
          "name": "stderr"
        },
        {
          "output_type": "stream",
          "text": [
            "Epoch:1000, Loss:0.11274100095033646\n"
          ],
          "name": "stdout"
        },
        {
          "output_type": "stream",
          "text": [
            " 20%|██        | 2027/10000 [00:09<00:40, 196.92it/s]"
          ],
          "name": "stderr"
        },
        {
          "output_type": "stream",
          "text": [
            "Epoch:2000, Loss:0.004128112457692623\n"
          ],
          "name": "stdout"
        },
        {
          "output_type": "stream",
          "text": [
            " 30%|███       | 3027/10000 [00:14<00:33, 205.97it/s]"
          ],
          "name": "stderr"
        },
        {
          "output_type": "stream",
          "text": [
            "Epoch:3000, Loss:0.0002109610941261053\n"
          ],
          "name": "stdout"
        },
        {
          "output_type": "stream",
          "text": [
            " 40%|████      | 4036/10000 [00:19<00:29, 203.14it/s]"
          ],
          "name": "stderr"
        },
        {
          "output_type": "stream",
          "text": [
            "Epoch:4000, Loss:1.2779839380527847e-05\n"
          ],
          "name": "stdout"
        },
        {
          "output_type": "stream",
          "text": [
            " 50%|█████     | 5032/10000 [00:24<00:23, 213.15it/s]"
          ],
          "name": "stderr"
        },
        {
          "output_type": "stream",
          "text": [
            "Epoch:5000, Loss:8.707350502845657e-07\n"
          ],
          "name": "stdout"
        },
        {
          "output_type": "stream",
          "text": [
            " 60%|██████    | 6035/10000 [00:29<00:18, 210.36it/s]"
          ],
          "name": "stderr"
        },
        {
          "output_type": "stream",
          "text": [
            "Epoch:6000, Loss:7.242741162372113e-08\n"
          ],
          "name": "stdout"
        },
        {
          "output_type": "stream",
          "text": [
            " 70%|███████   | 7031/10000 [00:34<00:15, 195.43it/s]"
          ],
          "name": "stderr"
        },
        {
          "output_type": "stream",
          "text": [
            "Epoch:7000, Loss:1.5299118416578494e-08\n"
          ],
          "name": "stdout"
        },
        {
          "output_type": "stream",
          "text": [
            " 80%|████████  | 8028/10000 [00:38<00:09, 197.58it/s]"
          ],
          "name": "stderr"
        },
        {
          "output_type": "stream",
          "text": [
            "Epoch:8000, Loss:8.828243913683309e-09\n"
          ],
          "name": "stdout"
        },
        {
          "output_type": "stream",
          "text": [
            " 90%|█████████ | 9042/10000 [00:44<00:04, 199.87it/s]"
          ],
          "name": "stderr"
        },
        {
          "output_type": "stream",
          "text": [
            "Epoch:9000, Loss:7.266988344412084e-09\n"
          ],
          "name": "stdout"
        },
        {
          "output_type": "stream",
          "text": [
            "100%|██████████| 10000/10000 [00:48<00:00, 204.60it/s]\n",
            "  0%|          | 7/10000 [00:00<02:22, 69.96it/s]"
          ],
          "name": "stderr"
        },
        {
          "output_type": "stream",
          "text": [
            "norm:3\n",
            "Epoch:0, Loss:32.122344970703125\n"
          ],
          "name": "stdout"
        },
        {
          "output_type": "stream",
          "text": [
            " 10%|█         | 1035/10000 [00:05<00:48, 183.23it/s]"
          ],
          "name": "stderr"
        },
        {
          "output_type": "stream",
          "text": [
            "Epoch:1000, Loss:1.2955750226974487\n"
          ],
          "name": "stdout"
        },
        {
          "output_type": "stream",
          "text": [
            " 20%|██        | 2025/10000 [00:10<00:44, 178.68it/s]"
          ],
          "name": "stderr"
        },
        {
          "output_type": "stream",
          "text": [
            "Epoch:2000, Loss:0.5478842854499817\n"
          ],
          "name": "stdout"
        },
        {
          "output_type": "stream",
          "text": [
            " 30%|███       | 3022/10000 [00:16<00:35, 197.24it/s]"
          ],
          "name": "stderr"
        },
        {
          "output_type": "stream",
          "text": [
            "Epoch:3000, Loss:0.26859572529792786\n"
          ],
          "name": "stdout"
        },
        {
          "output_type": "stream",
          "text": [
            " 40%|████      | 4024/10000 [00:21<00:30, 194.77it/s]"
          ],
          "name": "stderr"
        },
        {
          "output_type": "stream",
          "text": [
            "Epoch:4000, Loss:0.14140203595161438\n"
          ],
          "name": "stdout"
        },
        {
          "output_type": "stream",
          "text": [
            " 50%|█████     | 5034/10000 [00:26<00:24, 203.13it/s]"
          ],
          "name": "stderr"
        },
        {
          "output_type": "stream",
          "text": [
            "Epoch:5000, Loss:0.07765280455350876\n"
          ],
          "name": "stdout"
        },
        {
          "output_type": "stream",
          "text": [
            " 60%|██████    | 6026/10000 [00:31<00:20, 197.92it/s]"
          ],
          "name": "stderr"
        },
        {
          "output_type": "stream",
          "text": [
            "Epoch:6000, Loss:0.043876588344573975\n"
          ],
          "name": "stdout"
        },
        {
          "output_type": "stream",
          "text": [
            " 70%|███████   | 7043/10000 [00:36<00:14, 210.19it/s]"
          ],
          "name": "stderr"
        },
        {
          "output_type": "stream",
          "text": [
            "Epoch:7000, Loss:0.025271067395806313\n"
          ],
          "name": "stdout"
        },
        {
          "output_type": "stream",
          "text": [
            " 80%|████████  | 8039/10000 [00:41<00:09, 208.73it/s]"
          ],
          "name": "stderr"
        },
        {
          "output_type": "stream",
          "text": [
            "Epoch:8000, Loss:0.01475916150957346\n"
          ],
          "name": "stdout"
        },
        {
          "output_type": "stream",
          "text": [
            " 90%|█████████ | 9037/10000 [00:46<00:04, 204.68it/s]"
          ],
          "name": "stderr"
        },
        {
          "output_type": "stream",
          "text": [
            "Epoch:9000, Loss:0.008698541671037674\n"
          ],
          "name": "stdout"
        },
        {
          "output_type": "stream",
          "text": [
            "100%|██████████| 10000/10000 [00:50<00:00, 196.28it/s]\n",
            "  0%|          | 6/10000 [00:00<02:53, 57.77it/s]"
          ],
          "name": "stderr"
        },
        {
          "output_type": "stream",
          "text": [
            "norm:10\n",
            "Epoch:0, Loss:32.122344970703125\n"
          ],
          "name": "stdout"
        },
        {
          "output_type": "stream",
          "text": [
            " 10%|█         | 1025/10000 [00:05<00:44, 202.73it/s]"
          ],
          "name": "stderr"
        },
        {
          "output_type": "stream",
          "text": [
            "Epoch:1000, Loss:1293.2274169921875\n"
          ],
          "name": "stdout"
        },
        {
          "output_type": "stream",
          "text": [
            " 20%|██        | 2025/10000 [00:10<00:41, 193.51it/s]"
          ],
          "name": "stderr"
        },
        {
          "output_type": "stream",
          "text": [
            "Epoch:2000, Loss:182.5935516357422\n"
          ],
          "name": "stdout"
        },
        {
          "output_type": "stream",
          "text": [
            " 30%|███       | 3024/10000 [00:15<00:35, 196.10it/s]"
          ],
          "name": "stderr"
        },
        {
          "output_type": "stream",
          "text": [
            "Epoch:3000, Loss:4.10852575302124\n"
          ],
          "name": "stdout"
        },
        {
          "output_type": "stream",
          "text": [
            " 40%|████      | 4042/10000 [00:20<00:30, 198.52it/s]"
          ],
          "name": "stderr"
        },
        {
          "output_type": "stream",
          "text": [
            "Epoch:4000, Loss:0.2723035216331482\n"
          ],
          "name": "stdout"
        },
        {
          "output_type": "stream",
          "text": [
            " 50%|█████     | 5022/10000 [00:25<00:24, 199.33it/s]"
          ],
          "name": "stderr"
        },
        {
          "output_type": "stream",
          "text": [
            "Epoch:5000, Loss:2.779566764831543\n"
          ],
          "name": "stdout"
        },
        {
          "output_type": "stream",
          "text": [
            " 60%|██████    | 6041/10000 [00:30<00:18, 210.96it/s]"
          ],
          "name": "stderr"
        },
        {
          "output_type": "stream",
          "text": [
            "Epoch:6000, Loss:1.84625244140625\n"
          ],
          "name": "stdout"
        },
        {
          "output_type": "stream",
          "text": [
            " 70%|███████   | 7021/10000 [00:34<00:15, 197.97it/s]"
          ],
          "name": "stderr"
        },
        {
          "output_type": "stream",
          "text": [
            "Epoch:7000, Loss:1.2036441564559937\n"
          ],
          "name": "stdout"
        },
        {
          "output_type": "stream",
          "text": [
            " 80%|████████  | 8027/10000 [00:40<00:10, 188.45it/s]"
          ],
          "name": "stderr"
        },
        {
          "output_type": "stream",
          "text": [
            "Epoch:8000, Loss:0.6823225617408752\n"
          ],
          "name": "stdout"
        },
        {
          "output_type": "stream",
          "text": [
            " 90%|█████████ | 9041/10000 [00:45<00:04, 199.50it/s]"
          ],
          "name": "stderr"
        },
        {
          "output_type": "stream",
          "text": [
            "Epoch:9000, Loss:0.12187690287828445\n"
          ],
          "name": "stdout"
        },
        {
          "output_type": "stream",
          "text": [
            "100%|██████████| 10000/10000 [00:49<00:00, 200.24it/s]\n"
          ],
          "name": "stderr"
        }
      ]
    },
    {
      "cell_type": "code",
      "metadata": {
        "id": "-I8CWb7gTuhP",
        "colab_type": "code",
        "colab": {
          "base_uri": "https://localhost:8080/",
          "height": 393
        },
        "outputId": "0f55321e-f4d3-4d59-d1aa-7b20c56c16b8"
      },
      "source": [
        "# L = L/(2*y.shape[0])\n",
        "plt.figure(figsize=(10,6))\n",
        "plt.xlabel('Number of epochs',size=15)\n",
        "plt.ylabel('MSE loss',size=15)\n",
        "for i in range(L.shape[0]):\n",
        "  if norms[i] == 1.1:\n",
        "    norms[i] = 1\n",
        "  plt.semilogy(L[i]/(2*y.shape[0]),label=norms[i])\n",
        "\n",
        "\n",
        "plt.grid(True)\n",
        "plt.legend()\n",
        "plt.savefig('lr_curve.svg',format='svg')\n",
        "plt.show()"
      ],
      "execution_count": 12,
      "outputs": [
        {
          "output_type": "display_data",
          "data": {
            "image/png": "[encoded data removed]",
            "text/plain": [
              "<Figure size 720x432 with 1 Axes>"
            ]
          },
          "metadata": {
            "tags": [],
            "needs_background": "light"
          }
        }
      ]
    },
    {
      "cell_type": "code",
      "metadata": {
        "id": "pUbZNTj5LQwx",
        "colab_type": "code",
        "colab": {
          "base_uri": "https://localhost:8080/",
          "height": 34
        },
        "outputId": "92e1dc7f-83e9-4a27-f040-d4925c15811f"
      },
      "source": [
        "(rnp.abs(weights[0]) > 1.5).sum()"
      ],
      "execution_count": 13,
      "outputs": [
        {
          "output_type": "execute_result",
          "data": {
            "text/plain": [
              "11"
            ]
          },
          "metadata": {
            "tags": []
          },
          "execution_count": 13
        }
      ]
    },
    {
      "cell_type": "code",
      "metadata": {
        "id": "jWJNExXFU_wS",
        "colab_type": "code",
        "colab": {
          "base_uri": "https://localhost:8080/",
          "height": 393
        },
        "outputId": "cfcbd192-562e-4830-8124-6f50428a24ab"
      },
      "source": [
        "plt.figure(figsize=(10,6))\n",
        "plt.xlabel('Absolute value of weights',size=15)\n",
        "plt.ylabel('Frequency',size=15)\n",
        "# plt.yscale('log', nonposy='clip')\n",
        "\n",
        "plt.hist(np.abs(weights[3]), bins=200, label=norms[0])\n",
        "# for i in range(weights.shape[0]):\n",
        "#   plt.hist(np.abs(weights[2]), bins=200, label=norms[i])\n",
        "# plt.hist(np.abs(w_init),bins=100, label='init')\n",
        "\n",
        "plt.grid()\n",
        "plt.legend()\n",
        "plt.show()"
      ],
      "execution_count": 17,
      "outputs": [
        {
          "output_type": "display_data",
          "data": {
            "image/png": "[encoded data removed]",
            "text/plain": [
              "<Figure size 720x432 with 1 Axes>"
            ]
          },
          "metadata": {
            "tags": [],
            "needs_background": "light"
          }
        }
      ]
    },
    {
      "cell_type": "markdown",
      "metadata": {
        "id": "iqUQmvEzquYQ",
        "colab_type": "text"
      },
      "source": [
        "# **Experiment 2**\n",
        "## hist of weights for different parameterization\n",
        "## convergence rates for different parameterization\n"
      ]
    },
    {
      "cell_type": "code",
      "metadata": {
        "id": "vnz0eEMTqtuz",
        "colab_type": "code",
        "colab": {
          "base_uri": "https://localhost:8080/",
          "height": 1000
        },
        "outputId": "2b37b163-e49f-41d0-9791-2704b6c3d665"
      },
      "source": [
        "n_data = [1,10,100,500,1000]\n",
        "epochs = 10000\n",
        "norm = 10\n",
        "L = rnp.zeros((len(n_data),epochs))\n",
        "weights = rnp.zeros((len(n_data),d))\n",
        "w_init = rnp.random.normal(loc=0,scale=1e-2,size=d)\n",
        "\n",
        "lr_dict_n = {1.1:{1:0.01,10:0.01,100:0.01,500:0.001,1000:0.0001},\n",
        "             2:{1:0.01,10:0.01,100:0.01,500:0.001,1000:0.001},\n",
        "             3:{1:0.01,10:0.01,100:0.001,500:0.001,1000:0.001},\n",
        "             10:{1:0.0001,10:0.0001,100:0.0001,500:0.0001,1000:0.0001}}\n",
        "decay_dict_n = {1.1:{1:1,10:1,100:1,500:0.9999,1000:0.9999},\n",
        "             2:{1:1,10:1,100:1,500:1,1000:1},\n",
        "             3:{1:1,10:1,100:1,500:1,1000:1},\n",
        "             10:{1:0.999,10:0.999,100:0.999,500:0.999,1000:0.999}}\n",
        "\n",
        "min_error = 1e-12\n",
        "for k, n in enumerate(n_data):\n",
        "  X, y,_ = generate_data(n=n)\n",
        "  print('n:{}'.format(n))\n",
        "  l = rnp.zeros(epochs)\n",
        "  w = w_init.copy()\n",
        "  for i in tqdm(range(epochs)):\n",
        "    l[i] = loss(X,w,y)\n",
        "    if l[i] > min_error:\n",
        "      w = smd_update(i,w,X,y,lr=lr_dict_n[norm][n],p=norm, decay=decay_dict_n[norm][n])\n",
        "    else:\n",
        "      continue\n",
        "    if i%1000 == 0:\n",
        "      print('Epoch:{}, Loss:{}'.format(i,l[i]))\n",
        "  L[k] = l\n",
        "  weights[k] = w"
      ],
      "execution_count": 8,
      "outputs": [
        {
          "output_type": "stream",
          "text": [
            "\r  0%|          | 0/10000 [00:00<?, ?it/s]"
          ],
          "name": "stderr"
        },
        {
          "output_type": "stream",
          "text": [
            "n:1\n"
          ],
          "name": "stdout"
        },
        {
          "output_type": "stream",
          "text": [
            "  0%|          | 2/10000 [00:01<3:36:31,  1.30s/it]"
          ],
          "name": "stderr"
        },
        {
          "output_type": "stream",
          "text": [
            "Epoch:0, Loss:0.43239957094192505\n"
          ],
          "name": "stdout"
        },
        {
          "output_type": "stream",
          "text": [
            " 10%|█         | 1033/10000 [00:06<00:40, 223.60it/s]"
          ],
          "name": "stderr"
        },
        {
          "output_type": "stream",
          "text": [
            "Epoch:1000, Loss:28.760387420654297\n"
          ],
          "name": "stdout"
        },
        {
          "output_type": "stream",
          "text": [
            " 20%|██        | 2038/10000 [00:10<00:34, 229.87it/s]"
          ],
          "name": "stderr"
        },
        {
          "output_type": "stream",
          "text": [
            "Epoch:2000, Loss:21.7168025970459\n"
          ],
          "name": "stdout"
        },
        {
          "output_type": "stream",
          "text": [
            " 30%|███       | 3046/10000 [00:15<00:30, 230.58it/s]"
          ],
          "name": "stderr"
        },
        {
          "output_type": "stream",
          "text": [
            "Epoch:3000, Loss:16.28093910217285\n"
          ],
          "name": "stdout"
        },
        {
          "output_type": "stream",
          "text": [
            " 40%|████      | 4028/10000 [00:19<00:24, 244.63it/s]"
          ],
          "name": "stderr"
        },
        {
          "output_type": "stream",
          "text": [
            "Epoch:4000, Loss:9.443926811218262\n"
          ],
          "name": "stdout"
        },
        {
          "output_type": "stream",
          "text": [
            " 50%|█████     | 5041/10000 [00:23<00:21, 230.11it/s]"
          ],
          "name": "stderr"
        },
        {
          "output_type": "stream",
          "text": [
            "Epoch:5000, Loss:9.105257034301758\n"
          ],
          "name": "stdout"
        },
        {
          "output_type": "stream",
          "text": [
            " 60%|██████    | 6041/10000 [00:27<00:16, 244.98it/s]"
          ],
          "name": "stderr"
        },
        {
          "output_type": "stream",
          "text": [
            "Epoch:6000, Loss:6.756126880645752\n"
          ],
          "name": "stdout"
        },
        {
          "output_type": "stream",
          "text": [
            " 70%|███████   | 7030/10000 [00:32<00:12, 239.56it/s]"
          ],
          "name": "stderr"
        },
        {
          "output_type": "stream",
          "text": [
            "Epoch:7000, Loss:4.834138870239258\n"
          ],
          "name": "stdout"
        },
        {
          "output_type": "stream",
          "text": [
            " 80%|████████  | 8031/10000 [00:36<00:08, 228.33it/s]"
          ],
          "name": "stderr"
        },
        {
          "output_type": "stream",
          "text": [
            "Epoch:8000, Loss:9.037114143371582\n"
          ],
          "name": "stdout"
        },
        {
          "output_type": "stream",
          "text": [
            " 90%|█████████ | 9036/10000 [00:40<00:04, 238.48it/s]"
          ],
          "name": "stderr"
        },
        {
          "output_type": "stream",
          "text": [
            "Epoch:9000, Loss:3.1978166103363037\n"
          ],
          "name": "stdout"
        },
        {
          "output_type": "stream",
          "text": [
            "100%|██████████| 10000/10000 [00:44<00:00, 223.11it/s]\n",
            "  0%|          | 0/10000 [00:00<?, ?it/s]"
          ],
          "name": "stderr"
        },
        {
          "output_type": "stream",
          "text": [
            "n:10\n"
          ],
          "name": "stdout"
        },
        {
          "output_type": "stream",
          "text": [
            "  0%|          | 2/10000 [00:00<47:59,  3.47it/s]"
          ],
          "name": "stderr"
        },
        {
          "output_type": "stream",
          "text": [
            "Epoch:0, Loss:3.1287248134613037\n"
          ],
          "name": "stdout"
        },
        {
          "output_type": "stream",
          "text": [
            " 10%|█         | 1036/10000 [00:05<00:39, 227.65it/s]"
          ],
          "name": "stderr"
        },
        {
          "output_type": "stream",
          "text": [
            "Epoch:1000, Loss:440.2536926269531\n"
          ],
          "name": "stdout"
        },
        {
          "output_type": "stream",
          "text": [
            " 20%|██        | 2038/10000 [00:09<00:36, 218.97it/s]"
          ],
          "name": "stderr"
        },
        {
          "output_type": "stream",
          "text": [
            "Epoch:2000, Loss:330.1554260253906\n"
          ],
          "name": "stdout"
        },
        {
          "output_type": "stream",
          "text": [
            " 30%|███       | 3030/10000 [00:14<00:32, 215.06it/s]"
          ],
          "name": "stderr"
        },
        {
          "output_type": "stream",
          "text": [
            "Epoch:3000, Loss:241.70909118652344\n"
          ],
          "name": "stdout"
        },
        {
          "output_type": "stream",
          "text": [
            " 40%|████      | 4043/10000 [00:18<00:27, 215.04it/s]"
          ],
          "name": "stderr"
        },
        {
          "output_type": "stream",
          "text": [
            "Epoch:4000, Loss:175.86634826660156\n"
          ],
          "name": "stdout"
        },
        {
          "output_type": "stream",
          "text": [
            " 50%|█████     | 5030/10000 [00:23<00:24, 202.64it/s]"
          ],
          "name": "stderr"
        },
        {
          "output_type": "stream",
          "text": [
            "Epoch:5000, Loss:125.6014175415039\n"
          ],
          "name": "stdout"
        },
        {
          "output_type": "stream",
          "text": [
            " 60%|██████    | 6038/10000 [00:28<00:18, 218.52it/s]"
          ],
          "name": "stderr"
        },
        {
          "output_type": "stream",
          "text": [
            "Epoch:6000, Loss:88.68572235107422\n"
          ],
          "name": "stdout"
        },
        {
          "output_type": "stream",
          "text": [
            " 70%|███████   | 7039/10000 [00:32<00:13, 222.42it/s]"
          ],
          "name": "stderr"
        },
        {
          "output_type": "stream",
          "text": [
            "Epoch:7000, Loss:59.08116912841797\n"
          ],
          "name": "stdout"
        },
        {
          "output_type": "stream",
          "text": [
            " 80%|████████  | 8018/10000 [00:37<00:09, 208.20it/s]"
          ],
          "name": "stderr"
        },
        {
          "output_type": "stream",
          "text": [
            "Epoch:8000, Loss:37.731021881103516\n"
          ],
          "name": "stdout"
        },
        {
          "output_type": "stream",
          "text": [
            " 90%|█████████ | 9046/10000 [00:41<00:04, 222.40it/s]"
          ],
          "name": "stderr"
        },
        {
          "output_type": "stream",
          "text": [
            "Epoch:9000, Loss:18.131118774414062\n"
          ],
          "name": "stdout"
        },
        {
          "output_type": "stream",
          "text": [
            "100%|██████████| 10000/10000 [00:46<00:00, 216.05it/s]\n",
            "  0%|          | 0/10000 [00:00<?, ?it/s]"
          ],
          "name": "stderr"
        },
        {
          "output_type": "stream",
          "text": [
            "n:100\n"
          ],
          "name": "stdout"
        },
        {
          "output_type": "stream",
          "text": [
            "  0%|          | 7/10000 [00:00<33:59,  4.90it/s]"
          ],
          "name": "stderr"
        },
        {
          "output_type": "stream",
          "text": [
            "Epoch:0, Loss:34.326622009277344\n"
          ],
          "name": "stdout"
        },
        {
          "output_type": "stream",
          "text": [
            " 10%|█         | 1030/10000 [00:05<00:44, 200.22it/s]"
          ],
          "name": "stderr"
        },
        {
          "output_type": "stream",
          "text": [
            "Epoch:1000, Loss:3089.49365234375\n"
          ],
          "name": "stdout"
        },
        {
          "output_type": "stream",
          "text": [
            " 20%|██        | 2032/10000 [00:10<00:38, 208.55it/s]"
          ],
          "name": "stderr"
        },
        {
          "output_type": "stream",
          "text": [
            "Epoch:2000, Loss:188.41119384765625\n"
          ],
          "name": "stdout"
        },
        {
          "output_type": "stream",
          "text": [
            " 30%|███       | 3028/10000 [00:15<00:35, 196.24it/s]"
          ],
          "name": "stderr"
        },
        {
          "output_type": "stream",
          "text": [
            "Epoch:3000, Loss:2.4665658473968506\n"
          ],
          "name": "stdout"
        },
        {
          "output_type": "stream",
          "text": [
            " 40%|████      | 4035/10000 [00:20<00:30, 198.79it/s]"
          ],
          "name": "stderr"
        },
        {
          "output_type": "stream",
          "text": [
            "Epoch:4000, Loss:8.394241333007812\n"
          ],
          "name": "stdout"
        },
        {
          "output_type": "stream",
          "text": [
            " 50%|█████     | 5029/10000 [00:25<00:25, 197.07it/s]"
          ],
          "name": "stderr"
        },
        {
          "output_type": "stream",
          "text": [
            "Epoch:5000, Loss:4.167567729949951\n"
          ],
          "name": "stdout"
        },
        {
          "output_type": "stream",
          "text": [
            " 60%|██████    | 6035/10000 [00:30<00:19, 201.08it/s]"
          ],
          "name": "stderr"
        },
        {
          "output_type": "stream",
          "text": [
            "Epoch:6000, Loss:0.6643280982971191\n"
          ],
          "name": "stdout"
        },
        {
          "output_type": "stream",
          "text": [
            " 70%|███████   | 7034/10000 [00:35<00:15, 195.40it/s]"
          ],
          "name": "stderr"
        },
        {
          "output_type": "stream",
          "text": [
            "Epoch:7000, Loss:0.688264787197113\n"
          ],
          "name": "stdout"
        },
        {
          "output_type": "stream",
          "text": [
            " 80%|████████  | 8037/10000 [00:40<00:09, 207.89it/s]"
          ],
          "name": "stderr"
        },
        {
          "output_type": "stream",
          "text": [
            "Epoch:8000, Loss:0.12832988798618317\n"
          ],
          "name": "stdout"
        },
        {
          "output_type": "stream",
          "text": [
            " 90%|█████████ | 9025/10000 [00:45<00:05, 175.73it/s]"
          ],
          "name": "stderr"
        },
        {
          "output_type": "stream",
          "text": [
            "Epoch:9000, Loss:0.40032026171684265\n"
          ],
          "name": "stdout"
        },
        {
          "output_type": "stream",
          "text": [
            "100%|██████████| 10000/10000 [00:50<00:00, 197.83it/s]\n",
            "  0%|          | 0/10000 [00:00<?, ?it/s]"
          ],
          "name": "stderr"
        },
        {
          "output_type": "stream",
          "text": [
            "n:500\n"
          ],
          "name": "stdout"
        },
        {
          "output_type": "stream",
          "text": [
            "  0%|          | 4/10000 [00:00<39:46,  4.19it/s]"
          ],
          "name": "stderr"
        },
        {
          "output_type": "stream",
          "text": [
            "Epoch:0, Loss:169.75050354003906\n"
          ],
          "name": "stdout"
        },
        {
          "output_type": "stream",
          "text": [
            " 10%|█         | 1033/10000 [00:06<00:54, 164.03it/s]"
          ],
          "name": "stderr"
        },
        {
          "output_type": "stream",
          "text": [
            "Epoch:1000, Loss:2314.571533203125\n"
          ],
          "name": "stdout"
        },
        {
          "output_type": "stream",
          "text": [
            " 20%|██        | 2032/10000 [00:12<00:47, 166.82it/s]"
          ],
          "name": "stderr"
        },
        {
          "output_type": "stream",
          "text": [
            "Epoch:2000, Loss:115.83998107910156\n"
          ],
          "name": "stdout"
        },
        {
          "output_type": "stream",
          "text": [
            " 30%|███       | 3022/10000 [00:18<00:43, 160.81it/s]"
          ],
          "name": "stderr"
        },
        {
          "output_type": "stream",
          "text": [
            "Epoch:3000, Loss:10.836568832397461\n"
          ],
          "name": "stdout"
        },
        {
          "output_type": "stream",
          "text": [
            " 40%|████      | 4019/10000 [00:24<00:33, 180.17it/s]"
          ],
          "name": "stderr"
        },
        {
          "output_type": "stream",
          "text": [
            "Epoch:4000, Loss:78.03705596923828\n"
          ],
          "name": "stdout"
        },
        {
          "output_type": "stream",
          "text": [
            " 50%|█████     | 5019/10000 [00:30<00:27, 181.11it/s]"
          ],
          "name": "stderr"
        },
        {
          "output_type": "stream",
          "text": [
            "Epoch:5000, Loss:38.014522552490234\n"
          ],
          "name": "stdout"
        },
        {
          "output_type": "stream",
          "text": [
            " 60%|██████    | 6032/10000 [00:36<00:24, 160.71it/s]"
          ],
          "name": "stderr"
        },
        {
          "output_type": "stream",
          "text": [
            "Epoch:6000, Loss:66.75779724121094\n"
          ],
          "name": "stdout"
        },
        {
          "output_type": "stream",
          "text": [
            " 70%|███████   | 7021/10000 [00:42<00:19, 155.05it/s]"
          ],
          "name": "stderr"
        },
        {
          "output_type": "stream",
          "text": [
            "Epoch:7000, Loss:10.826003074645996\n"
          ],
          "name": "stdout"
        },
        {
          "output_type": "stream",
          "text": [
            " 80%|████████  | 8034/10000 [00:48<00:11, 169.63it/s]"
          ],
          "name": "stderr"
        },
        {
          "output_type": "stream",
          "text": [
            "Epoch:8000, Loss:5.305979251861572\n"
          ],
          "name": "stdout"
        },
        {
          "output_type": "stream",
          "text": [
            " 90%|█████████ | 9034/10000 [00:54<00:05, 174.09it/s]"
          ],
          "name": "stderr"
        },
        {
          "output_type": "stream",
          "text": [
            "Epoch:9000, Loss:4.855282306671143\n"
          ],
          "name": "stdout"
        },
        {
          "output_type": "stream",
          "text": [
            "100%|██████████| 10000/10000 [01:00<00:00, 166.49it/s]\n",
            "  0%|          | 0/10000 [00:00<?, ?it/s]"
          ],
          "name": "stderr"
        },
        {
          "output_type": "stream",
          "text": [
            "n:1000\n"
          ],
          "name": "stdout"
        },
        {
          "output_type": "stream",
          "text": [
            "  0%|          | 5/10000 [00:00<38:50,  4.29it/s]"
          ],
          "name": "stderr"
        },
        {
          "output_type": "stream",
          "text": [
            "Epoch:0, Loss:320.3197937011719\n"
          ],
          "name": "stdout"
        },
        {
          "output_type": "stream",
          "text": [
            " 10%|█         | 1023/10000 [00:07<01:00, 147.36it/s]"
          ],
          "name": "stderr"
        },
        {
          "output_type": "stream",
          "text": [
            "Epoch:1000, Loss:4070.57080078125\n"
          ],
          "name": "stdout"
        },
        {
          "output_type": "stream",
          "text": [
            " 20%|██        | 2022/10000 [00:14<00:56, 139.99it/s]"
          ],
          "name": "stderr"
        },
        {
          "output_type": "stream",
          "text": [
            "Epoch:2000, Loss:2120.71728515625\n"
          ],
          "name": "stdout"
        },
        {
          "output_type": "stream",
          "text": [
            " 30%|███       | 3011/10000 [00:21<00:49, 140.45it/s]"
          ],
          "name": "stderr"
        },
        {
          "output_type": "stream",
          "text": [
            "Epoch:3000, Loss:40.10508728027344\n"
          ],
          "name": "stdout"
        },
        {
          "output_type": "stream",
          "text": [
            " 40%|████      | 4025/10000 [00:28<00:45, 130.95it/s]"
          ],
          "name": "stderr"
        },
        {
          "output_type": "stream",
          "text": [
            "Epoch:4000, Loss:544.6043701171875\n"
          ],
          "name": "stdout"
        },
        {
          "output_type": "stream",
          "text": [
            " 50%|█████     | 5029/10000 [00:36<00:35, 140.92it/s]"
          ],
          "name": "stderr"
        },
        {
          "output_type": "stream",
          "text": [
            "Epoch:5000, Loss:725.09228515625\n"
          ],
          "name": "stdout"
        },
        {
          "output_type": "stream",
          "text": [
            " 60%|██████    | 6019/10000 [00:43<00:27, 145.26it/s]"
          ],
          "name": "stderr"
        },
        {
          "output_type": "stream",
          "text": [
            "Epoch:6000, Loss:200.98793029785156\n"
          ],
          "name": "stdout"
        },
        {
          "output_type": "stream",
          "text": [
            " 70%|███████   | 7019/10000 [00:50<00:19, 149.28it/s]"
          ],
          "name": "stderr"
        },
        {
          "output_type": "stream",
          "text": [
            "Epoch:7000, Loss:100.9267807006836\n"
          ],
          "name": "stdout"
        },
        {
          "output_type": "stream",
          "text": [
            " 80%|████████  | 8028/10000 [00:57<00:13, 146.97it/s]"
          ],
          "name": "stderr"
        },
        {
          "output_type": "stream",
          "text": [
            "Epoch:8000, Loss:60.82745361328125\n"
          ],
          "name": "stdout"
        },
        {
          "output_type": "stream",
          "text": [
            " 90%|█████████ | 9028/10000 [01:04<00:07, 138.12it/s]"
          ],
          "name": "stderr"
        },
        {
          "output_type": "stream",
          "text": [
            "Epoch:9000, Loss:87.31464385986328\n"
          ],
          "name": "stdout"
        },
        {
          "output_type": "stream",
          "text": [
            "100%|██████████| 10000/10000 [01:11<00:00, 139.44it/s]\n"
          ],
          "name": "stderr"
        }
      ]
    },
    {
      "cell_type": "markdown",
      "metadata": {
        "id": "e6wAxVQ60qXi",
        "colab_type": "text"
      },
      "source": [
        "is there a particular parametrization ratio for which the linear model performs the best(least error)? or it is a monotonic relation? For p=3, kappa = 0.001 performs best. For p=2, kappa = 0.001 performs best. For p=1, kappa = 0.1 performs best."
      ]
    },
    {
      "cell_type": "code",
      "metadata": {
        "id": "9jCDqjHX2UHU",
        "colab_type": "code",
        "colab": {
          "base_uri": "https://localhost:8080/",
          "height": 86
        },
        "outputId": "fb947720-47b5-4e38-f634-a1af684d4407"
      },
      "source": [
        "print(L[:,-1])\n",
        "L1 = (L.T / n_data).T\n",
        "L1 = L1*0.5\n",
        "L1[:,-1]"
      ],
      "execution_count": 9,
      "outputs": [
        {
          "output_type": "stream",
          "text": [
            "[3.87928085e-05 5.89135016e-05 1.86316639e-01 5.98307276e+00\n",
            " 4.61769257e+01]\n"
          ],
          "name": "stdout"
        },
        {
          "output_type": "execute_result",
          "data": {
            "text/plain": [
              "array([1.93964042e-05, 2.94567508e-06, 9.31583196e-04, 5.98307276e-03,\n",
              "       2.30884628e-02])"
            ]
          },
          "metadata": {
            "tags": []
          },
          "execution_count": 9
        }
      ]
    },
    {
      "cell_type": "code",
      "metadata": {
        "id": "xV3M1YsksFOk",
        "colab_type": "code",
        "colab": {
          "base_uri": "https://localhost:8080/",
          "height": 393
        },
        "outputId": "c5432715-ac46-4834-8604-0e2340abb244"
      },
      "source": [
        "plt.figure(figsize=(10,6))\n",
        "plt.xlabel('Number of epochs',size=15)\n",
        "plt.ylabel('MSE loss',size=15)\n",
        "for i in range(L.shape[0]):\n",
        "  plt.semilogy(np.arange(epochs), L1[i],label=int(d/n_data[i]))\n",
        "\n",
        "plt.grid(True)\n",
        "plt.legend()\n",
        "plt.show()"
      ],
      "execution_count": 10,
      "outputs": [
        {
          "output_type": "display_data",
          "data": {
            "image/png": "[encoded data removed]",
            "text/plain": [
              "<Figure size 720x432 with 1 Axes>"
            ]
          },
          "metadata": {
            "tags": [],
            "needs_background": "light"
          }
        }
      ]
    },
    {
      "cell_type": "code",
      "metadata": {
        "id": "DWYwprFIsLGm",
        "colab_type": "code",
        "colab": {
          "base_uri": "https://localhost:8080/",
          "height": 393
        },
        "outputId": "ac4bc1e5-0d22-4ec3-84d3-2a94f8f41992"
      },
      "source": [
        "plt.figure(figsize=(10,6))\n",
        "plt.xlabel('Absolute value of weights',size=15)\n",
        "plt.ylabel('Frequency',size=15)\n",
        "for i in range(weights.shape[0]):\n",
        "  plt.hist(np.abs(weights[i]), bins=50, label=int(d/n_data[i]), cumulative=False, histtype='step')\n",
        "\n",
        "# plt.yscale('log', nonposy='clip')\n",
        "plt.grid()\n",
        "plt.legend()\n",
        "plt.show()"
      ],
      "execution_count": 11,
      "outputs": [
        {
          "output_type": "display_data",
          "data": {
            "image/png": "[encoded data removed]",
            "text/plain": [
              "<Figure size 720x432 with 1 Axes>"
            ]
          },
          "metadata": {
            "tags": [],
            "needs_background": "light"
          }
        }
      ]
    },
    {
      "cell_type": "markdown",
      "metadata": {
        "id": "9QNtMMuq2xZ1",
        "colab_type": "text"
      },
      "source": [
        "the maximum absolute value of the weights is inversely proportional to kappa value (parameterization ratio performs some form of L2-regularization?) The weights finally converge to some upper limit."
      ]
    },
    {
      "cell_type": "code",
      "metadata": {
        "id": "kkFKYYpzw7w0",
        "colab_type": "code",
        "colab": {}
      },
      "source": [
        ""
      ],
      "execution_count": null,
      "outputs": []
    },
    {
      "cell_type": "markdown",
      "metadata": {
        "id": "m9dvA1G8mmSp",
        "colab_type": "text"
      },
      "source": [
        "# **Experiments for Non-Linear Models (CIFAR-10)**\n",
        "## Courtsey: Sahin Lale, Caltech"
      ]
    },
    {
      "cell_type": "code",
      "metadata": {
        "id": "lNzDMIcaeopJ",
        "colab_type": "code",
        "colab": {
          "base_uri": "https://localhost:8080/",
          "height": 364
        },
        "outputId": "748a7062-779d-46eb-a835-e79dfb75b723"
      },
      "source": [
        "!nvidia-smi"
      ],
      "execution_count": null,
      "outputs": [
        {
          "output_type": "stream",
          "text": [
            "Tue Jul 14 13:22:20 2020       \n",
            "+-----------------------------------------------------------------------------+\n",
            "| NVIDIA-SMI 450.51.05    Driver Version: 418.67       CUDA Version: 10.1     |\n",
            "|-------------------------------+----------------------+----------------------+\n",
            "| GPU  Name        Persistence-M| Bus-Id        Disp.A | Volatile Uncorr. ECC |\n",
            "| Fan  Temp  Perf  Pwr:Usage/Cap|         Memory-Usage | GPU-Util  Compute M. |\n",
            "|                               |                      |               MIG M. |\n",
            "|===============================+======================+======================|\n",
            "|   0  Tesla K80           Off  | 00000000:00:04.0 Off |                    0 |\n",
            "| N/A   73C    P0    71W / 149W |  10661MiB / 11441MiB |      0%      Default |\n",
            "|                               |                      |                 ERR! |\n",
            "+-------------------------------+----------------------+----------------------+\n",
            "                                                                               \n",
            "+-----------------------------------------------------------------------------+\n",
            "| Processes:                                                                  |\n",
            "|  GPU   GI   CI        PID   Type   Process name                  GPU Memory |\n",
            "|        ID   ID                                                   Usage      |\n",
            "|=============================================================================|\n",
            "|  No running processes found                                                 |\n",
            "+-----------------------------------------------------------------------------+\n"
          ],
          "name": "stdout"
        }
      ]
    },
    {
      "cell_type": "code",
      "metadata": {
        "id": "vY_qhjQbyB95",
        "colab_type": "code",
        "colab": {}
      },
      "source": [
        "import torch\n",
        "from torch.optim import Optimizer\n",
        "import torch.distributed as dist\n",
        "from torch._utils import _flatten_dense_tensors, _unflatten_dense_tensors, \\\n",
        "    _take_tensors\n",
        "import math\n",
        "\n",
        "\n",
        "class SMD_compress(Optimizer):\n",
        "\n",
        "    def __init__(self, params, lr=0.01, momentum=0, weight_decay = 0, dampening=0):\n",
        "        if not 0.0 <= lr:\n",
        "            raise ValueError(\"Invalid learning rate: {}\".format(lr))\n",
        "        if not 0.0 <= momentum:\n",
        "            raise ValueError(\"Invalid momentum value: {}\".format(momentum))\n",
        "        if not 0.0 <= weight_decay:\n",
        "            raise ValueError(\"Invalid weight_decay value: {}\".format(weight_decay))\n",
        "\n",
        "        defaults = dict(lr=lr, momentum=momentum, weight_decay=weight_decay, dampening=dampening)\n",
        "        super(SMD_compress, self).__init__(params, defaults)\n",
        "    \n",
        "    def __setstate__(self, state):\n",
        "        super(SMD_compress, self).__setstate__(state)\n",
        "    \n",
        "    def step(self, closure=None):\n",
        "        loss = None\n",
        "        if closure is not None:\n",
        "            loss = closure()\n",
        "        \n",
        "        for group in self.param_groups:\n",
        "            weight_decay = group['weight_decay']\n",
        "            momentum = group['momentum']\n",
        "            dampening = group['dampening']\n",
        "            \n",
        "#             all_grads = []\n",
        "\n",
        "            for p in group['params']:\n",
        "                if p.grad is None:\n",
        "                    continue\n",
        "                d_p = p.grad.data\n",
        "                if momentum != 0:\n",
        "                    param_state = self.state[p]\n",
        "                    if 'momentum_buffer' not in param_state:\n",
        "                        buf = param_state['momentum_buffer'] = torch.zeros_like(p.data)\n",
        "                        buf.mul_(momentum).add_(d_p)\n",
        "                    else:\n",
        "                        buf = param_state['momentum_buffer']\n",
        "                        buf.mul_(momentum).add_(1 - dampening, d_p)\n",
        "                    d_p = buf\n",
        "    #           (1+eps) norm potential function\n",
        "                eps = 0.1\n",
        "                update = (1+eps)* (torch.abs(p.data)**eps) * torch.sign(p.data) - group['lr'] * d_p\n",
        "                p.data = (torch.abs(update/(1+eps))**(1/eps)) * torch.sign(update)\n",
        "\n",
        "        return loss \n",
        "    \n",
        "\n",
        "class SMD_qnorm(Optimizer):\n",
        "\n",
        "    def __init__(self, params, lr=0.01, momentum=0, weight_decay = 0, dampening=0, q =3):\n",
        "        if not 0.0 <= lr:\n",
        "            raise ValueError(\"Invalid learning rate: {}\".format(lr))\n",
        "        if not 0.0 <= momentum:\n",
        "            raise ValueError(\"Invalid momentum value: {}\".format(momentum))\n",
        "        if not 0.0 <= weight_decay:\n",
        "            raise ValueError(\"Invalid weight_decay value: {}\".format(weight_decay))\n",
        "        if not 2.0 <= q:\n",
        "            raise ValueError(\"Invalid q_norm value: {}\".format(q))\n",
        "\n",
        "        defaults = dict(lr=lr, momentum=momentum, weight_decay=weight_decay, dampening=dampening, q = q)\n",
        "        super(SMD_qnorm, self).__init__(params, defaults)\n",
        "    \n",
        "    def __setstate__(self, state):\n",
        "        super(SMD_qnorm, self).__setstate__(state)\n",
        "    \n",
        "    def step(self, closure=None):\n",
        "        loss = None\n",
        "        if closure is not None:\n",
        "            loss = closure()\n",
        "        \n",
        "        for group in self.param_groups:\n",
        "            weight_decay = group['weight_decay']\n",
        "            momentum = group['momentum']\n",
        "            dampening = group['dampening']\n",
        "            \n",
        "#             all_grads = []\n",
        "\n",
        "            for p in group['params']:\n",
        "                if p.grad is None:\n",
        "                    continue\n",
        "                d_p = p.grad.data\n",
        "    #           q norm potential function\n",
        "                update = (group['q'])* (torch.abs(p.data)**(group['q']-1)) * torch.sign(p.data) - group['lr'] * d_p\n",
        "                p.data = (torch.abs(update/(group['q']))**(1/(group['q'] - 1))) * torch.sign(update)\n",
        "\n",
        "        return loss "
      ],
      "execution_count": null,
      "outputs": []
    },
    {
      "cell_type": "code",
      "metadata": {
        "id": "fIk7X1nzyXzS",
        "colab_type": "code",
        "colab": {
          "base_uri": "https://localhost:8080/",
          "height": 344,
          "referenced_widgets": [
            "1e5242917b3e41cca18e80a3674cf7bc",
            "4a5aa47c38ad430caf5f6a664ff76215",
            "22b0184cf4854ac7bfee22a7978e83ba",
            "fd8c37e77ecc4cb7a1055bb6dc751439",
            "eea16dfe2fd94326abaae10e31f89427",
            "f00ffa868bcb41dfa4dcefb218764660",
            "ad0913c1094047a9b431bd44e7716018",
            "c7e08a44cbe74a5a9a2c39c1e319bbdd"
          ]
        },
        "outputId": "1b102a45-9458-4735-f638-4e62460c3fe6"
      },
      "source": [
        "import torch\n",
        "import torch.nn as nn\n",
        "import torch.optim as optim\n",
        "import torch.nn.functional as F\n",
        "import torch.backends.cudnn as cudnn\n",
        "import math\n",
        "import torchvision\n",
        "import torchvision.transforms as transforms\n",
        "from torch.autograd import Variable\n",
        "import torchvision.models as models\n",
        "# import SMD_opt\n",
        "\n",
        "class BasicBlock(nn.Module):\n",
        "    expansion = 1\n",
        "\n",
        "    def __init__(self, in_planes, planes, stride=1):\n",
        "        super(BasicBlock, self).__init__()\n",
        "        self.conv1 = nn.Conv2d(in_planes, planes, kernel_size=3, stride=stride, padding=1, bias=False)\n",
        "        self.bn1 = nn.BatchNorm2d(planes)\n",
        "        self.conv2 = nn.Conv2d(planes, planes, kernel_size=3, stride=1, padding=1, bias=False)\n",
        "        self.bn2 = nn.BatchNorm2d(planes)\n",
        "\n",
        "        self.shortcut = nn.Sequential()\n",
        "        if stride != 1 or in_planes != self.expansion*planes:\n",
        "            self.shortcut = nn.Sequential(\n",
        "                nn.Conv2d(in_planes, self.expansion*planes, kernel_size=1, stride=stride, bias=False),\n",
        "                nn.BatchNorm2d(self.expansion*planes)\n",
        "            )\n",
        "\n",
        "    def forward(self, x):\n",
        "        out = F.relu(self.bn1(self.conv1(x)))\n",
        "        out = self.bn2(self.conv2(out))\n",
        "        out += self.shortcut(x)\n",
        "        out = F.relu(out)\n",
        "        return out\n",
        "\n",
        "\n",
        "class Bottleneck(nn.Module):\n",
        "    expansion = 4\n",
        "\n",
        "    def __init__(self, in_planes, planes, stride=1):\n",
        "        super(Bottleneck, self).__init__()\n",
        "        self.conv1 = nn.Conv2d(in_planes, planes, kernel_size=1, bias=False)\n",
        "        self.bn1 = nn.BatchNorm2d(planes)\n",
        "        self.conv2 = nn.Conv2d(planes, planes, kernel_size=3, stride=stride, padding=1, bias=False)\n",
        "        self.bn2 = nn.BatchNorm2d(planes)\n",
        "        self.conv3 = nn.Conv2d(planes, self.expansion*planes, kernel_size=1, bias=False)\n",
        "        self.bn3 = nn.BatchNorm2d(self.expansion*planes)\n",
        "\n",
        "        self.shortcut = nn.Sequential()\n",
        "        if stride != 1 or in_planes != self.expansion*planes:\n",
        "            self.shortcut = nn.Sequential(\n",
        "                nn.Conv2d(in_planes, self.expansion*planes, kernel_size=1, stride=stride, bias=False),\n",
        "                nn.BatchNorm2d(self.expansion*planes)\n",
        "            )\n",
        "\n",
        "    def forward(self, x):\n",
        "        out = F.relu(self.bn1(self.conv1(x)))\n",
        "        out = F.relu(self.bn2(self.conv2(out)))\n",
        "        out = self.bn3(self.conv3(out))\n",
        "        out += self.shortcut(x)\n",
        "        out = F.relu(out)\n",
        "        return out\n",
        "\n",
        "\n",
        "class ResNet(nn.Module):\n",
        "    def __init__(self, block, num_blocks, num_classes=10):\n",
        "        super(ResNet, self).__init__()\n",
        "        self.in_planes = 64\n",
        "\n",
        "        self.conv1 = nn.Conv2d(3, 64, kernel_size=3, stride=1, padding=1, bias=False)\n",
        "        self.bn1 = nn.BatchNorm2d(64)\n",
        "        self.layer1 = self._make_layer(block, 64, num_blocks[0], stride=1)\n",
        "        self.layer2 = self._make_layer(block, 128, num_blocks[1], stride=2)\n",
        "        self.layer3 = self._make_layer(block, 256, num_blocks[2], stride=2)\n",
        "        self.layer4 = self._make_layer(block, 512, num_blocks[3], stride=2)\n",
        "        self.linear = nn.Linear(512*block.expansion, num_classes)\n",
        "\n",
        "    def _make_layer(self, block, planes, num_blocks, stride):\n",
        "        strides = [stride] + [1]*(num_blocks-1)\n",
        "        layers = []\n",
        "        for stride in strides:\n",
        "            layers.append(block(self.in_planes, planes, stride))\n",
        "            self.in_planes = planes * block.expansion\n",
        "        return nn.Sequential(*layers)\n",
        "\n",
        "    def forward(self, x):\n",
        "        out = F.relu(self.bn1(self.conv1(x)))\n",
        "        out = self.layer1(out)\n",
        "        out = self.layer2(out)\n",
        "        out = self.layer3(out)\n",
        "        out = self.layer4(out)\n",
        "        out = F.avg_pool2d(out, 4)\n",
        "        out = out.view(out.size(0), -1)\n",
        "        out = self.linear(out)\n",
        "        return out\n",
        "\n",
        "\n",
        "def ResNet18():\n",
        "    return ResNet(BasicBlock, [2,2,2,2])\n",
        "\n",
        "def ResNet34():\n",
        "    return ResNet(BasicBlock, [3,4,6,3])\n",
        "\n",
        "def ResNet50():\n",
        "    return ResNet(Bottleneck, [3,4,6,3])\n",
        "\n",
        "\n",
        "\n",
        "import torch\n",
        "import torch.nn as nn\n",
        "import torch.optim as optim\n",
        "import torch.nn.functional as F\n",
        "import torch.backends.cudnn as cudnn\n",
        "\n",
        "import torchvision\n",
        "import torchvision.transforms as transforms\n",
        "\n",
        "\n",
        "\n",
        "\n",
        "num_epochs = 4500\n",
        "num_classes = 10\n",
        "batch_size = 128\n",
        "learning_rate = 0.01\n",
        "\n",
        "device = 'cuda' if torch.cuda.is_available() else 'cpu'\n",
        "\n",
        "# Data\n",
        "print('==> Preparing data..')\n",
        "\n",
        "transform_train = transforms.Compose([\n",
        "    transforms.RandomCrop(32, padding=2),\n",
        "    transforms.RandomHorizontalFlip(),\n",
        "    transforms.ToTensor(),\n",
        "    transforms.Normalize((0.4914, 0.4822, 0.4465), (0.247, 0.243, 0.261)),\n",
        "])\n",
        "\n",
        "transform_test = transforms.Compose([\n",
        "    transforms.ToTensor(),\n",
        "    transforms.Normalize((0.4914, 0.4822, 0.4465), (0.247, 0.243, 0.261)),\n",
        "])\n",
        "\n",
        "trainset = torchvision.datasets.CIFAR10(root='./data', train=True, download=True, transform=transform_train)\n",
        "trainloader = torch.utils.data.DataLoader(trainset, batch_size=128, shuffle=True, num_workers=4)\n",
        "\n",
        "testset = torchvision.datasets.CIFAR10(root='./data', train=False, download=True, transform=transform_test)\n",
        "testloader = torch.utils.data.DataLoader(testset, batch_size=128, shuffle=False, num_workers=2)\n",
        "\n",
        "classes = ('plane', 'car', 'bird', 'cat', 'deer', 'dog', 'frog', 'horse', 'ship', 'truck')\n",
        "\n",
        "# Model\n",
        "print('==> Building model..')\n",
        "\n",
        "model = ResNet18()\n",
        "\n",
        "if device == 'cuda':\n",
        "    model = torch.nn.DataParallel(model)\n",
        "    cudnn.benchmark = True\n",
        "model = model.cuda()\n",
        "\n",
        "def weights_init(m):\n",
        "    classname = m.__class__.__name__\n",
        "    if classname.find('Conv') != -1:\n",
        "        m.weight.data.normal_(0.0, 0.01)\n",
        "    elif classname.find('BatchNorm') != -1:\n",
        "        m.weight.data.normal_(0.0, 0.01)\n",
        "        m.bias.data.fill_(0)\n",
        "    elif classname.find('Linear') != -1:\n",
        "        m.weight.data.uniform_(-0.01, 0.01)\n",
        "        m.bias.data.uniform_(-0.1, 0.1)\n",
        "    \n",
        "model.apply(weights_init)\n",
        "\n",
        "free_params = sum(p.numel() for p in model.parameters() if p.requires_grad)\n",
        "print('Trainable parameters:',free_params)\n",
        "\n",
        "\n",
        "criterion = nn.CrossEntropyLoss().cuda()\n",
        "optimizer = SMD_compress(model.parameters(), lr=learning_rate)\n",
        "\n",
        "total_step = len(trainloader)\n",
        "print('Total steps:',total_step)\n",
        "loss_list = []\n",
        "acc_list = []\n",
        "\n",
        "# Training\n",
        "resume = True\n",
        "last_epoch = 100\n",
        "PATH = '/content/drive/My Drive/smd1_' + str(last_epoch) + '.pth'\n",
        "if resume:\n",
        "    print('Resuming model training from {} epochs...'.format(last_epoch))\n",
        "    checkpoint = torch.load(PATH)\n",
        "    model.load_state_dict(checkpoint['model_state_dict'])\n",
        "    optimizer.load_state_dict(checkpoint['optimizer_state_dict'])\n",
        "    epoch = checkpoint['epoch']\n",
        "    loss = checkpoint['loss']\n",
        "\n",
        "for epoch in range(num_epochs):\n",
        "    total = 0\n",
        "    correct = 0\n",
        "    for i, (images, labels) in enumerate(trainloader):\n",
        "        \n",
        "        images = images.cuda(async=True)\n",
        "        labels = labels.cuda(async=True)\n",
        "        \n",
        "        images = Variable(images)\n",
        "        labels = Variable(labels)\n",
        "        # Run the forward pass\n",
        "        outputs = model(images)\n",
        "        \n",
        "        loss = criterion(outputs, labels)\n",
        "        loss_list.append(loss.item())\n",
        "\n",
        "        # Backprop and perform\n",
        "        optimizer.zero_grad()\n",
        "        loss.backward()\n",
        "        optimizer.step()\n",
        "\n",
        "         # Track the accuracy\n",
        "        total = labels.size(0) + total\n",
        "        _, predicted = torch.max(outputs.data, 1)\n",
        "        correct = (predicted == labels).sum().item() + correct\n",
        "        acc_list.append(correct / total)\n",
        "        \n",
        "        if (i + 1) % 100 == 0:\n",
        "            w = torch.nn.utils.parameters_to_vector(model.parameters())\n",
        "            print('Epoch [{}/{}], Step [{}/{}], Loss: {:.4f}, Accuracy: {:.2f}%'\n",
        "                  .format(epoch + 1, num_epochs, i + 1, total_step, loss.item(),\n",
        "                          (correct / total) * 100))\n",
        "    if (correct/total) > 0.999 :\n",
        "        break\n",
        "    if epoch % 100 == 0 and epoch > 0:\n",
        "        checkpoint = {'epoch': epoch,\n",
        "                      'loss': loss,\n",
        "                      'model_state_dict': model.state_dict(),\n",
        "                      'optimizer_state_dict': optimizer.state_dict()}\n",
        "        torch.save(checkpoint, '/content/drive/My Drive/smd1_' + str(epoch) + '.pth')\n",
        "        print('Saving model after {} epochs as smd1_{}.pth'.format(epoch, epoch))\n",
        "        \n",
        "\n",
        "print('Finished Training')\n",
        "\n",
        "\n",
        "torch.save(model.state_dict(), './final_1norm.pth') \n",
        "\n",
        "# Test the model\n",
        "model.eval()\n",
        "with torch.no_grad():\n",
        "    correct = 0\n",
        "    total = 0\n",
        "    for images, labels in testloader:\n",
        "        images = images.cuda(async=True)\n",
        "        labels = labels.cuda(async=True)\n",
        "        \n",
        "        images = Variable(images)\n",
        "        labels = Variable(labels)\n",
        "        \n",
        "        outputs = model(images)\n",
        "        _, predicted = torch.max(outputs.data, 1)\n",
        "        total += labels.size(0)\n",
        "        correct += (predicted == labels).sum().item()\n",
        "\n",
        "    print('Test Accuracy of the model on the 10000 test images: {} %'.format((correct / total) * 100))"
      ],
      "execution_count": null,
      "outputs": [
        {
          "output_type": "stream",
          "text": [
            "==> Preparing data..\n",
            "Downloading https://www.cs.toronto.edu/~kriz/cifar-10-python.tar.gz to ./data/cifar-10-python.tar.gz\n"
          ],
          "name": "stdout"
        },
        {
          "output_type": "display_data",
          "data": {
            "application/vnd.jupyter.widget-view+json": {
              "model_id": "1e5242917b3e41cca18e80a3674cf7bc",
              "version_minor": 0,
              "version_major": 2
            },
            "text/plain": [
              "HBox(children=(FloatProgress(value=1.0, bar_style='info', max=1.0), HTML(value='')))"
            ]
          },
          "metadata": {
            "tags": []
          }
        },
        {
          "output_type": "stream",
          "text": [
            "Extracting ./data/cifar-10-python.tar.gz to ./data\n",
            "Files already downloaded and verified\n",
            "==> Building model..\n",
            "Trainable parameters: 11173962\n",
            "Total steps: 391\n",
            "Resuming model training from 100 epochs...\n"
          ],
          "name": "stdout"
        },
        {
          "output_type": "stream",
          "text": [
            "/pytorch/torch/csrc/utils/python_arg_parser.cpp:756: UserWarning: This overload of cuda is deprecated:\n",
            "\tcuda(torch.device device, bool async, *, torch.memory_format memory_format)\n",
            "Consider using one of the following signatures instead:\n",
            "\tcuda(torch.device device, bool non_blocking, *, torch.memory_format memory_format)\n"
          ],
          "name": "stderr"
        },
        {
          "output_type": "stream",
          "text": [
            "Epoch [1/4500], Step [100/391], Loss: 0.0018, Accuracy: 99.92%\n",
            "Epoch [1/4500], Step [200/391], Loss: 0.0008, Accuracy: 99.91%\n",
            "Epoch [1/4500], Step [300/391], Loss: 0.0015, Accuracy: 99.91%\n",
            "Finished Training\n",
            "Test Accuracy of the model on the 10000 test images: 89.67 %\n"
          ],
          "name": "stdout"
        }
      ]
    },
    {
      "cell_type": "code",
      "metadata": {
        "id": "rn7ZeLhlVOp6",
        "colab_type": "code",
        "colab": {
          "base_uri": "https://localhost:8080/",
          "height": 265
        },
        "outputId": "8c6d2a3e-29fa-43b7-cd15-37282d3ce02f"
      },
      "source": [
        "w_ = w.detach().cpu().numpy()\n",
        "np.save('smd1',w_)\n",
        "lim = 0.05\n",
        "import numpy as np\n",
        "import matplotlib.pyplot as plt\n",
        "wabs = np.abs(w_)\n",
        "id = np.where(wabs <= lim)\n",
        "w1 = wabs[id]\n",
        "plt.hist(w1, bins=100)\n",
        "plt.show()"
      ],
      "execution_count": null,
      "outputs": [
        {
          "output_type": "display_data",
          "data": {
            "image/png": "[encoded data removed]",
            "text/plain": [
              "<Figure size 432x288 with 1 Axes>"
            ]
          },
          "metadata": {
            "tags": [],
            "needs_background": "light"
          }
        }
      ]
    },
    {
      "cell_type": "code",
      "metadata": {
        "id": "RXvWUWX20B-Q",
        "colab_type": "code",
        "colab": {
          "base_uri": "https://localhost:8080/",
          "height": 1000
        },
        "outputId": "6b55c93f-8392-4ccc-f930-82a540a642a8"
      },
      "source": [
        "import torch\n",
        "import torch.nn as nn\n",
        "import torch.optim as optim\n",
        "import torch.nn.functional as F\n",
        "import torch.backends.cudnn as cudnn\n",
        "import math\n",
        "import torchvision\n",
        "import torchvision.transforms as transforms\n",
        "from torch.autograd import Variable\n",
        "import torchvision.models as models\n",
        "# import SMD_opt\n",
        "\n",
        "class BasicBlock(nn.Module):\n",
        "    expansion = 1\n",
        "\n",
        "    def __init__(self, in_planes, planes, stride=1):\n",
        "        super(BasicBlock, self).__init__()\n",
        "        self.conv1 = nn.Conv2d(in_planes, planes, kernel_size=3, stride=stride, padding=1, bias=False)\n",
        "        self.bn1 = nn.BatchNorm2d(planes)\n",
        "        self.conv2 = nn.Conv2d(planes, planes, kernel_size=3, stride=1, padding=1, bias=False)\n",
        "        self.bn2 = nn.BatchNorm2d(planes)\n",
        "\n",
        "        self.shortcut = nn.Sequential()\n",
        "        if stride != 1 or in_planes != self.expansion*planes:\n",
        "            self.shortcut = nn.Sequential(\n",
        "                nn.Conv2d(in_planes, self.expansion*planes, kernel_size=1, stride=stride, bias=False),\n",
        "                nn.BatchNorm2d(self.expansion*planes)\n",
        "            )\n",
        "\n",
        "    def forward(self, x):\n",
        "        out = F.relu(self.bn1(self.conv1(x)))\n",
        "        out = self.bn2(self.conv2(out))\n",
        "        out += self.shortcut(x)\n",
        "        out = F.relu(out)\n",
        "        return out\n",
        "\n",
        "\n",
        "class Bottleneck(nn.Module):\n",
        "    expansion = 4\n",
        "\n",
        "    def __init__(self, in_planes, planes, stride=1):\n",
        "        super(Bottleneck, self).__init__()\n",
        "        self.conv1 = nn.Conv2d(in_planes, planes, kernel_size=1, bias=False)\n",
        "        self.bn1 = nn.BatchNorm2d(planes)\n",
        "        self.conv2 = nn.Conv2d(planes, planes, kernel_size=3, stride=stride, padding=1, bias=False)\n",
        "        self.bn2 = nn.BatchNorm2d(planes)\n",
        "        self.conv3 = nn.Conv2d(planes, self.expansion*planes, kernel_size=1, bias=False)\n",
        "        self.bn3 = nn.BatchNorm2d(self.expansion*planes)\n",
        "\n",
        "        self.shortcut = nn.Sequential()\n",
        "        if stride != 1 or in_planes != self.expansion*planes:\n",
        "            self.shortcut = nn.Sequential(\n",
        "                nn.Conv2d(in_planes, self.expansion*planes, kernel_size=1, stride=stride, bias=False),\n",
        "                nn.BatchNorm2d(self.expansion*planes)\n",
        "            )\n",
        "\n",
        "    def forward(self, x):\n",
        "        out = F.relu(self.bn1(self.conv1(x)))\n",
        "        out = F.relu(self.bn2(self.conv2(out)))\n",
        "        out = self.bn3(self.conv3(out))\n",
        "        out += self.shortcut(x)\n",
        "        out = F.relu(out)\n",
        "        return out\n",
        "\n",
        "\n",
        "class ResNet(nn.Module):\n",
        "    def __init__(self, block, num_blocks, num_classes=10):\n",
        "        super(ResNet, self).__init__()\n",
        "        self.in_planes = 64\n",
        "\n",
        "        self.conv1 = nn.Conv2d(3, 64, kernel_size=3, stride=1, padding=1, bias=False)\n",
        "        self.bn1 = nn.BatchNorm2d(64)\n",
        "        self.layer1 = self._make_layer(block, 64, num_blocks[0], stride=1)\n",
        "        self.layer2 = self._make_layer(block, 128, num_blocks[1], stride=2)\n",
        "        self.layer3 = self._make_layer(block, 256, num_blocks[2], stride=2)\n",
        "        self.layer4 = self._make_layer(block, 512, num_blocks[3], stride=2)\n",
        "        self.linear = nn.Linear(512*block.expansion, num_classes)\n",
        "\n",
        "    def _make_layer(self, block, planes, num_blocks, stride):\n",
        "        strides = [stride] + [1]*(num_blocks-1)\n",
        "        layers = []\n",
        "        for stride in strides:\n",
        "            layers.append(block(self.in_planes, planes, stride))\n",
        "            self.in_planes = planes * block.expansion\n",
        "        return nn.Sequential(*layers)\n",
        "\n",
        "    def forward(self, x):\n",
        "        out = F.relu(self.bn1(self.conv1(x)))\n",
        "        out = self.layer1(out)\n",
        "        out = self.layer2(out)\n",
        "        out = self.layer3(out)\n",
        "        out = self.layer4(out)\n",
        "        out = F.avg_pool2d(out, 4)\n",
        "        out = out.view(out.size(0), -1)\n",
        "        out = self.linear(out)\n",
        "        return out\n",
        "\n",
        "\n",
        "def ResNet18():\n",
        "    return ResNet(BasicBlock, [2,2,2,2])\n",
        "\n",
        "def ResNet34():\n",
        "    return ResNet(BasicBlock, [3,4,6,3])\n",
        "\n",
        "def ResNet50():\n",
        "    return ResNet(Bottleneck, [3,4,6,3])\n",
        "\n",
        "\n",
        "\n",
        "import torch\n",
        "import torch.nn as nn\n",
        "import torch.optim as optim\n",
        "import torch.nn.functional as F\n",
        "import torch.backends.cudnn as cudnn\n",
        "\n",
        "import torchvision\n",
        "import torchvision.transforms as transforms\n",
        "\n",
        "\n",
        "\n",
        "\n",
        "num_epochs = 4500\n",
        "num_classes = 10\n",
        "batch_size = 128\n",
        "learning_rate = 0.02\n",
        "\n",
        "device = 'cuda' if torch.cuda.is_available() else 'cpu'\n",
        "\n",
        "# Data\n",
        "print('==> Preparing data..')\n",
        "\n",
        "transform_train = transforms.Compose([\n",
        "    transforms.RandomCrop(32, padding=2),\n",
        "    transforms.RandomHorizontalFlip(),\n",
        "    transforms.ToTensor(),\n",
        "    transforms.Normalize((0.4914, 0.4822, 0.4465), (0.247, 0.243, 0.261)),\n",
        "])\n",
        "\n",
        "transform_test = transforms.Compose([\n",
        "    transforms.ToTensor(),\n",
        "    transforms.Normalize((0.4914, 0.4822, 0.4465), (0.247, 0.243, 0.261)),\n",
        "])\n",
        "\n",
        "trainset = torchvision.datasets.CIFAR10(root='./data', train=True, download=True, transform=transform_train)\n",
        "trainloader = torch.utils.data.DataLoader(trainset, batch_size=128, shuffle=True, num_workers=4)\n",
        "\n",
        "testset = torchvision.datasets.CIFAR10(root='./data', train=False, download=True, transform=transform_test)\n",
        "testloader = torch.utils.data.DataLoader(testset, batch_size=128, shuffle=False, num_workers=2)\n",
        "\n",
        "classes = ('plane', 'car', 'bird', 'cat', 'deer', 'dog', 'frog', 'horse', 'ship', 'truck')\n",
        "\n",
        "# Model\n",
        "print('==> Building model..')\n",
        "\n",
        "model = ResNet18()\n",
        "\n",
        "if device == 'cuda':\n",
        "    model = torch.nn.DataParallel(model)\n",
        "    cudnn.benchmark = True\n",
        "model = model.cuda()\n",
        "\n",
        "def weights_init(m):\n",
        "    classname = m.__class__.__name__\n",
        "    if classname.find('Conv') != -1:\n",
        "        m.weight.data.normal_(0.0, 0.01)\n",
        "    elif classname.find('BatchNorm') != -1:\n",
        "        m.weight.data.normal_(0.0, 0.01)\n",
        "        m.bias.data.fill_(0)\n",
        "    elif classname.find('Linear') != -1:\n",
        "        m.weight.data.uniform_(-0.01, 0.01)\n",
        "        m.bias.data.uniform_(-0.1, 0.1)\n",
        "    \n",
        "model.apply(weights_init)\n",
        "\n",
        "free_params = sum(p.numel() for p in model.parameters() if p.requires_grad)\n",
        "print(free_params)\n",
        "\n",
        "\n",
        "criterion = nn.CrossEntropyLoss().cuda()\n",
        "optimizer = SMD_qnorm(model.parameters(), lr=learning_rate, q=10)\n",
        "\n",
        "total_step = len(trainloader)\n",
        "print(total_step)\n",
        "loss_list = []\n",
        "acc_list = []\n",
        "\n",
        "\n",
        "# Training\n",
        "resume = True\n",
        "last_epoch = 100\n",
        "PATH = '/content/drive/My Drive/smd10_' + str(last_epoch) + '.pth'\n",
        "if resume:\n",
        "    print('Resuming model training from {} epochs...'.format(last_epoch))\n",
        "    checkpoint = torch.load(PATH)\n",
        "    model.load_state_dict(checkpoint['model_state_dict'])\n",
        "    optimizer.load_state_dict(checkpoint['optimizer_state_dict'])\n",
        "    epoch = checkpoint['epoch']\n",
        "    loss = checkpoint['loss']\n",
        "\n",
        "for epoch in range(num_epochs):\n",
        "    total = 0\n",
        "    correct = 0\n",
        "#     scheduler.step()\n",
        "    for i, (images, labels) in enumerate(trainloader):\n",
        "        \n",
        "        images = images.cuda(async=True)\n",
        "        labels = labels.cuda(async=True)\n",
        "        \n",
        "        images = Variable(images)\n",
        "        labels = Variable(labels)\n",
        "        # Run the forward pass\n",
        "        outputs = model(images)\n",
        "        \n",
        "        loss = criterion(outputs, labels)\n",
        "        loss_list.append(loss.item())\n",
        "\n",
        "        # Backprop and perform\n",
        "        optimizer.zero_grad()\n",
        "        loss.backward()\n",
        "        optimizer.step()\n",
        "\n",
        "         # Track the accuracy\n",
        "        total = labels.size(0) + total\n",
        "        _, predicted = torch.max(outputs.data, 1)\n",
        "        correct = (predicted == labels).sum().item() + correct\n",
        "        acc_list.append(correct / total)\n",
        "        \n",
        "        if (i + 1) % 100 == 0:\n",
        "            w = torch.nn.utils.parameters_to_vector(model.parameters())\n",
        "            # print(w)\n",
        "            print('Epoch [{}/{}], Step [{}/{}], Loss: {:.4f}, Accuracy: {:.2f}%'\n",
        "                  .format(epoch + 1, num_epochs, i + 1, total_step, loss.item(),\n",
        "                          (correct / total) * 100))\n",
        "    if (correct/total) >= 0.999 :\n",
        "        break \n",
        "    if epoch % 100 == 0 and epoch > 0:\n",
        "        checkpoint = {'epoch': epoch,\n",
        "                      'loss': loss,\n",
        "                      'model_state_dict': model.state_dict(),\n",
        "                      'optimizer_state_dict': optimizer.state_dict()}\n",
        "        torch.save(checkpoint, '/content/drive/My Drive/smd10_' + str(epoch) + '.pth')\n",
        "        print('Saving model after {} epochs as smd10_{}.pth'.format(epoch, epoch))\n",
        "\n",
        "print('Finished Training')\n",
        "\n",
        "\n",
        "\n",
        "\n",
        "torch.save(model.state_dict(), './final_10norm.pth') \n",
        "\n",
        "\n",
        "# Test the model\n",
        "model.eval()\n",
        "with torch.no_grad():\n",
        "    correct = 0\n",
        "    total = 0\n",
        "    for images, labels in testloader:\n",
        "        images = images.cuda(async=True)\n",
        "        labels = labels.cuda(async=True)\n",
        "        \n",
        "        images = Variable(images)\n",
        "        labels = Variable(labels)\n",
        "        \n",
        "        outputs = model(images)\n",
        "        _, predicted = torch.max(outputs.data, 1)\n",
        "        total += labels.size(0)\n",
        "        correct += (predicted == labels).sum().item()\n",
        "\n",
        "    print('Test Accuracy of the model on the 10000 test images: {} %'.format((correct / total) * 100))\n"
      ],
      "execution_count": null,
      "outputs": [
        {
          "output_type": "stream",
          "text": [
            "==> Preparing data..\n",
            "Files already downloaded and verified\n",
            "Files already downloaded and verified\n",
            "==> Building model..\n",
            "11173962\n",
            "391\n",
            "Epoch [1/4500], Step [100/391], Loss: 1.9088, Accuracy: 19.51%\n",
            "Epoch [1/4500], Step [200/391], Loss: 2.0315, Accuracy: 24.06%\n",
            "Epoch [1/4500], Step [300/391], Loss: 1.6820, Accuracy: 27.11%\n",
            "Epoch [2/4500], Step [100/391], Loss: 1.5669, Accuracy: 37.09%\n",
            "Epoch [2/4500], Step [200/391], Loss: 1.5133, Accuracy: 37.84%\n",
            "Epoch [2/4500], Step [300/391], Loss: 1.5335, Accuracy: 38.92%\n",
            "Epoch [3/4500], Step [100/391], Loss: 1.3840, Accuracy: 45.91%\n",
            "Epoch [3/4500], Step [200/391], Loss: 1.4493, Accuracy: 46.39%\n",
            "Epoch [3/4500], Step [300/391], Loss: 1.4936, Accuracy: 47.12%\n",
            "Epoch [4/4500], Step [100/391], Loss: 1.3689, Accuracy: 50.72%\n",
            "Epoch [4/4500], Step [200/391], Loss: 1.3712, Accuracy: 52.81%\n",
            "Epoch [4/4500], Step [300/391], Loss: 1.2916, Accuracy: 53.91%\n",
            "Epoch [5/4500], Step [100/391], Loss: 1.1809, Accuracy: 59.02%\n",
            "Epoch [5/4500], Step [200/391], Loss: 1.2295, Accuracy: 59.88%\n",
            "Epoch [5/4500], Step [300/391], Loss: 1.1381, Accuracy: 60.44%\n",
            "Epoch [6/4500], Step [100/391], Loss: 1.0305, Accuracy: 65.30%\n",
            "Epoch [6/4500], Step [200/391], Loss: 0.8693, Accuracy: 65.46%\n",
            "Epoch [6/4500], Step [300/391], Loss: 0.8654, Accuracy: 65.95%\n",
            "Epoch [7/4500], Step [100/391], Loss: 0.6398, Accuracy: 69.77%\n",
            "Epoch [7/4500], Step [200/391], Loss: 0.8658, Accuracy: 70.46%\n",
            "Epoch [7/4500], Step [300/391], Loss: 0.8694, Accuracy: 70.86%\n",
            "Epoch [8/4500], Step [100/391], Loss: 0.8704, Accuracy: 73.85%\n",
            "Epoch [8/4500], Step [200/391], Loss: 0.6968, Accuracy: 74.28%\n",
            "Epoch [8/4500], Step [300/391], Loss: 0.6767, Accuracy: 74.65%\n",
            "Epoch [9/4500], Step [100/391], Loss: 0.7929, Accuracy: 76.59%\n",
            "Epoch [9/4500], Step [200/391], Loss: 0.6804, Accuracy: 76.67%\n",
            "Epoch [9/4500], Step [300/391], Loss: 0.7284, Accuracy: 76.88%\n",
            "Epoch [10/4500], Step [100/391], Loss: 0.5244, Accuracy: 78.10%\n",
            "Epoch [10/4500], Step [200/391], Loss: 0.6835, Accuracy: 78.20%\n",
            "Epoch [10/4500], Step [300/391], Loss: 0.4982, Accuracy: 78.68%\n",
            "Epoch [11/4500], Step [100/391], Loss: 0.5495, Accuracy: 80.92%\n",
            "Epoch [11/4500], Step [200/391], Loss: 0.6250, Accuracy: 80.71%\n",
            "Epoch [11/4500], Step [300/391], Loss: 0.3955, Accuracy: 80.79%\n",
            "Epoch [12/4500], Step [100/391], Loss: 0.3848, Accuracy: 82.26%\n",
            "Epoch [12/4500], Step [200/391], Loss: 0.3046, Accuracy: 81.94%\n",
            "Epoch [12/4500], Step [300/391], Loss: 0.4559, Accuracy: 82.08%\n",
            "Epoch [13/4500], Step [100/391], Loss: 0.5013, Accuracy: 82.79%\n",
            "Epoch [13/4500], Step [200/391], Loss: 0.5709, Accuracy: 82.85%\n",
            "Epoch [13/4500], Step [300/391], Loss: 0.5561, Accuracy: 83.00%\n",
            "Epoch [14/4500], Step [100/391], Loss: 0.4137, Accuracy: 84.07%\n",
            "Epoch [14/4500], Step [200/391], Loss: 0.4326, Accuracy: 84.04%\n",
            "Epoch [14/4500], Step [300/391], Loss: 0.6516, Accuracy: 84.15%\n",
            "Epoch [15/4500], Step [100/391], Loss: 0.4619, Accuracy: 85.48%\n",
            "Epoch [15/4500], Step [200/391], Loss: 0.4679, Accuracy: 85.31%\n",
            "Epoch [15/4500], Step [300/391], Loss: 0.4584, Accuracy: 85.31%\n",
            "Epoch [16/4500], Step [100/391], Loss: 0.1839, Accuracy: 85.94%\n",
            "Epoch [16/4500], Step [200/391], Loss: 0.3649, Accuracy: 86.21%\n",
            "Epoch [16/4500], Step [300/391], Loss: 0.3860, Accuracy: 85.92%\n",
            "Epoch [17/4500], Step [100/391], Loss: 0.3955, Accuracy: 86.53%\n",
            "Epoch [17/4500], Step [200/391], Loss: 0.4683, Accuracy: 86.62%\n",
            "Epoch [17/4500], Step [300/391], Loss: 0.3710, Accuracy: 86.51%\n",
            "Epoch [18/4500], Step [100/391], Loss: 0.3574, Accuracy: 87.36%\n",
            "Epoch [18/4500], Step [200/391], Loss: 0.3545, Accuracy: 87.35%\n",
            "Epoch [18/4500], Step [300/391], Loss: 0.2878, Accuracy: 87.40%\n",
            "Epoch [19/4500], Step [100/391], Loss: 0.4390, Accuracy: 88.20%\n",
            "Epoch [19/4500], Step [200/391], Loss: 0.4130, Accuracy: 87.95%\n",
            "Epoch [19/4500], Step [300/391], Loss: 0.4228, Accuracy: 87.98%\n",
            "Epoch [20/4500], Step [100/391], Loss: 0.2100, Accuracy: 88.95%\n",
            "Epoch [20/4500], Step [200/391], Loss: 0.5094, Accuracy: 88.45%\n",
            "Epoch [20/4500], Step [300/391], Loss: 0.3599, Accuracy: 88.47%\n",
            "Epoch [21/4500], Step [100/391], Loss: 0.3113, Accuracy: 89.19%\n",
            "Epoch [21/4500], Step [200/391], Loss: 0.3542, Accuracy: 89.18%\n",
            "Epoch [21/4500], Step [300/391], Loss: 0.2856, Accuracy: 89.12%\n",
            "Epoch [22/4500], Step [100/391], Loss: 0.2418, Accuracy: 90.38%\n",
            "Epoch [22/4500], Step [200/391], Loss: 0.3445, Accuracy: 90.16%\n",
            "Epoch [22/4500], Step [300/391], Loss: 0.2468, Accuracy: 89.94%\n",
            "Epoch [23/4500], Step [100/391], Loss: 0.2343, Accuracy: 90.54%\n",
            "Epoch [23/4500], Step [200/391], Loss: 0.2680, Accuracy: 90.24%\n",
            "Epoch [23/4500], Step [300/391], Loss: 0.3358, Accuracy: 90.07%\n",
            "Epoch [24/4500], Step [100/391], Loss: 0.2182, Accuracy: 90.89%\n",
            "Epoch [24/4500], Step [200/391], Loss: 0.2886, Accuracy: 90.84%\n",
            "Epoch [24/4500], Step [300/391], Loss: 0.3442, Accuracy: 90.62%\n",
            "Epoch [25/4500], Step [100/391], Loss: 0.2719, Accuracy: 91.33%\n",
            "Epoch [25/4500], Step [200/391], Loss: 0.2500, Accuracy: 91.06%\n",
            "Epoch [25/4500], Step [300/391], Loss: 0.2898, Accuracy: 90.96%\n",
            "Epoch [26/4500], Step [100/391], Loss: 0.2676, Accuracy: 91.43%\n",
            "Epoch [26/4500], Step [200/391], Loss: 0.1639, Accuracy: 91.49%\n",
            "Epoch [26/4500], Step [300/391], Loss: 0.2863, Accuracy: 91.40%\n",
            "Epoch [27/4500], Step [100/391], Loss: 0.1737, Accuracy: 91.98%\n",
            "Epoch [27/4500], Step [200/391], Loss: 0.2555, Accuracy: 91.90%\n",
            "Epoch [27/4500], Step [300/391], Loss: 0.2663, Accuracy: 91.83%\n",
            "Epoch [28/4500], Step [100/391], Loss: 0.0969, Accuracy: 92.49%\n",
            "Epoch [28/4500], Step [200/391], Loss: 0.2522, Accuracy: 91.99%\n",
            "Epoch [28/4500], Step [300/391], Loss: 0.3574, Accuracy: 91.89%\n",
            "Epoch [29/4500], Step [100/391], Loss: 0.2019, Accuracy: 92.47%\n",
            "Epoch [29/4500], Step [200/391], Loss: 0.1427, Accuracy: 92.36%\n",
            "Epoch [29/4500], Step [300/391], Loss: 0.1664, Accuracy: 92.27%\n",
            "Epoch [30/4500], Step [100/391], Loss: 0.2187, Accuracy: 92.68%\n",
            "Epoch [30/4500], Step [200/391], Loss: 0.1364, Accuracy: 92.60%\n",
            "Epoch [30/4500], Step [300/391], Loss: 0.2118, Accuracy: 92.49%\n",
            "Epoch [31/4500], Step [100/391], Loss: 0.1750, Accuracy: 93.20%\n",
            "Epoch [31/4500], Step [200/391], Loss: 0.2055, Accuracy: 93.10%\n",
            "Epoch [31/4500], Step [300/391], Loss: 0.1921, Accuracy: 92.99%\n",
            "Epoch [32/4500], Step [100/391], Loss: 0.1787, Accuracy: 93.45%\n",
            "Epoch [32/4500], Step [200/391], Loss: 0.1532, Accuracy: 93.38%\n",
            "Epoch [32/4500], Step [300/391], Loss: 0.1861, Accuracy: 93.06%\n",
            "Epoch [33/4500], Step [100/391], Loss: 0.1595, Accuracy: 93.98%\n",
            "Epoch [33/4500], Step [200/391], Loss: 0.1736, Accuracy: 93.65%\n",
            "Epoch [33/4500], Step [300/391], Loss: 0.1027, Accuracy: 93.49%\n",
            "Epoch [34/4500], Step [100/391], Loss: 0.1414, Accuracy: 94.13%\n",
            "Epoch [34/4500], Step [200/391], Loss: 0.1721, Accuracy: 93.89%\n",
            "Epoch [34/4500], Step [300/391], Loss: 0.2208, Accuracy: 93.82%\n",
            "Epoch [35/4500], Step [100/391], Loss: 0.1339, Accuracy: 93.87%\n",
            "Epoch [35/4500], Step [200/391], Loss: 0.1587, Accuracy: 93.60%\n",
            "Epoch [35/4500], Step [300/391], Loss: 0.1345, Accuracy: 93.80%\n",
            "Epoch [36/4500], Step [100/391], Loss: 0.1630, Accuracy: 94.02%\n",
            "Epoch [36/4500], Step [200/391], Loss: 0.1598, Accuracy: 93.99%\n",
            "Epoch [36/4500], Step [300/391], Loss: 0.1855, Accuracy: 94.05%\n",
            "Epoch [37/4500], Step [100/391], Loss: 0.1354, Accuracy: 94.47%\n",
            "Epoch [37/4500], Step [200/391], Loss: 0.1092, Accuracy: 94.29%\n",
            "Epoch [37/4500], Step [300/391], Loss: 0.1857, Accuracy: 94.26%\n",
            "Epoch [38/4500], Step [100/391], Loss: 0.2151, Accuracy: 94.52%\n",
            "Epoch [38/4500], Step [200/391], Loss: 0.2111, Accuracy: 94.45%\n",
            "Epoch [38/4500], Step [300/391], Loss: 0.2177, Accuracy: 94.34%\n",
            "Epoch [39/4500], Step [100/391], Loss: 0.1158, Accuracy: 95.10%\n",
            "Epoch [39/4500], Step [200/391], Loss: 0.1628, Accuracy: 94.83%\n",
            "Epoch [39/4500], Step [300/391], Loss: 0.1187, Accuracy: 94.79%\n",
            "Epoch [40/4500], Step [100/391], Loss: 0.1489, Accuracy: 94.65%\n",
            "Epoch [40/4500], Step [200/391], Loss: 0.1959, Accuracy: 94.63%\n",
            "Epoch [40/4500], Step [300/391], Loss: 0.1719, Accuracy: 94.54%\n",
            "Epoch [41/4500], Step [100/391], Loss: 0.1110, Accuracy: 95.37%\n",
            "Epoch [41/4500], Step [200/391], Loss: 0.1056, Accuracy: 95.01%\n",
            "Epoch [41/4500], Step [300/391], Loss: 0.1074, Accuracy: 94.97%\n",
            "Epoch [42/4500], Step [100/391], Loss: 0.1614, Accuracy: 95.56%\n",
            "Epoch [42/4500], Step [200/391], Loss: 0.1629, Accuracy: 95.28%\n",
            "Epoch [42/4500], Step [300/391], Loss: 0.2281, Accuracy: 95.18%\n",
            "Epoch [43/4500], Step [100/391], Loss: 0.1519, Accuracy: 95.87%\n",
            "Epoch [43/4500], Step [200/391], Loss: 0.1645, Accuracy: 95.45%\n",
            "Epoch [43/4500], Step [300/391], Loss: 0.1109, Accuracy: 95.26%\n",
            "Epoch [44/4500], Step [100/391], Loss: 0.2295, Accuracy: 95.49%\n",
            "Epoch [44/4500], Step [200/391], Loss: 0.1356, Accuracy: 95.49%\n",
            "Epoch [44/4500], Step [300/391], Loss: 0.1133, Accuracy: 95.31%\n",
            "Epoch [45/4500], Step [100/391], Loss: 0.1833, Accuracy: 95.57%\n",
            "Epoch [45/4500], Step [200/391], Loss: 0.0838, Accuracy: 95.53%\n",
            "Epoch [45/4500], Step [300/391], Loss: 0.1555, Accuracy: 95.44%\n",
            "Epoch [46/4500], Step [100/391], Loss: 0.1178, Accuracy: 95.92%\n",
            "Epoch [46/4500], Step [200/391], Loss: 0.0963, Accuracy: 95.53%\n",
            "Epoch [46/4500], Step [300/391], Loss: 0.2049, Accuracy: 95.59%\n",
            "Epoch [47/4500], Step [100/391], Loss: 0.1127, Accuracy: 95.86%\n",
            "Epoch [47/4500], Step [200/391], Loss: 0.2052, Accuracy: 95.81%\n",
            "Epoch [47/4500], Step [300/391], Loss: 0.0860, Accuracy: 95.98%\n",
            "Epoch [48/4500], Step [100/391], Loss: 0.0611, Accuracy: 96.52%\n",
            "Epoch [48/4500], Step [200/391], Loss: 0.0796, Accuracy: 96.18%\n",
            "Epoch [48/4500], Step [300/391], Loss: 0.1286, Accuracy: 96.05%\n",
            "Epoch [49/4500], Step [100/391], Loss: 0.1066, Accuracy: 96.08%\n",
            "Epoch [49/4500], Step [200/391], Loss: 0.0520, Accuracy: 96.08%\n",
            "Epoch [49/4500], Step [300/391], Loss: 0.1352, Accuracy: 96.02%\n",
            "Epoch [50/4500], Step [100/391], Loss: 0.1130, Accuracy: 95.89%\n",
            "Epoch [50/4500], Step [200/391], Loss: 0.1482, Accuracy: 96.14%\n",
            "Epoch [50/4500], Step [300/391], Loss: 0.0716, Accuracy: 96.32%\n",
            "Epoch [51/4500], Step [100/391], Loss: 0.0632, Accuracy: 96.82%\n",
            "Epoch [51/4500], Step [200/391], Loss: 0.1097, Accuracy: 96.54%\n",
            "Epoch [51/4500], Step [300/391], Loss: 0.1284, Accuracy: 96.42%\n",
            "Epoch [52/4500], Step [100/391], Loss: 0.1303, Accuracy: 96.92%\n",
            "Epoch [52/4500], Step [200/391], Loss: 0.1019, Accuracy: 96.70%\n",
            "Epoch [52/4500], Step [300/391], Loss: 0.2285, Accuracy: 96.51%\n",
            "Epoch [53/4500], Step [100/391], Loss: 0.1675, Accuracy: 96.72%\n",
            "Epoch [53/4500], Step [200/391], Loss: 0.2262, Accuracy: 96.77%\n",
            "Epoch [53/4500], Step [300/391], Loss: 0.1440, Accuracy: 96.61%\n",
            "Epoch [54/4500], Step [100/391], Loss: 0.0338, Accuracy: 96.82%\n",
            "Epoch [54/4500], Step [200/391], Loss: 0.0994, Accuracy: 96.78%\n",
            "Epoch [54/4500], Step [300/391], Loss: 0.0893, Accuracy: 96.73%\n",
            "Epoch [55/4500], Step [100/391], Loss: 0.1504, Accuracy: 96.77%\n",
            "Epoch [55/4500], Step [200/391], Loss: 0.0628, Accuracy: 96.71%\n",
            "Epoch [55/4500], Step [300/391], Loss: 0.1623, Accuracy: 96.71%\n",
            "Epoch [56/4500], Step [100/391], Loss: 0.0683, Accuracy: 97.31%\n",
            "Epoch [56/4500], Step [200/391], Loss: 0.0693, Accuracy: 96.92%\n",
            "Epoch [56/4500], Step [300/391], Loss: 0.1585, Accuracy: 96.86%\n",
            "Epoch [57/4500], Step [100/391], Loss: 0.1229, Accuracy: 97.07%\n",
            "Epoch [57/4500], Step [200/391], Loss: 0.1052, Accuracy: 97.01%\n",
            "Epoch [57/4500], Step [300/391], Loss: 0.0594, Accuracy: 96.90%\n",
            "Epoch [58/4500], Step [100/391], Loss: 0.0624, Accuracy: 97.38%\n",
            "Epoch [58/4500], Step [200/391], Loss: 0.0368, Accuracy: 97.30%\n",
            "Epoch [58/4500], Step [300/391], Loss: 0.2140, Accuracy: 97.17%\n",
            "Epoch [59/4500], Step [100/391], Loss: 0.0560, Accuracy: 97.59%\n",
            "Epoch [59/4500], Step [200/391], Loss: 0.0916, Accuracy: 97.27%\n",
            "Epoch [59/4500], Step [300/391], Loss: 0.0743, Accuracy: 97.14%\n",
            "Epoch [60/4500], Step [100/391], Loss: 0.0512, Accuracy: 97.53%\n",
            "Epoch [60/4500], Step [200/391], Loss: 0.0917, Accuracy: 97.37%\n",
            "Epoch [60/4500], Step [300/391], Loss: 0.1348, Accuracy: 97.28%\n",
            "Epoch [61/4500], Step [100/391], Loss: 0.0650, Accuracy: 97.60%\n",
            "Epoch [61/4500], Step [200/391], Loss: 0.0438, Accuracy: 97.46%\n",
            "Epoch [61/4500], Step [300/391], Loss: 0.0636, Accuracy: 97.34%\n",
            "Epoch [62/4500], Step [100/391], Loss: 0.0305, Accuracy: 97.66%\n",
            "Epoch [62/4500], Step [200/391], Loss: 0.0698, Accuracy: 97.34%\n",
            "Epoch [62/4500], Step [300/391], Loss: 0.1377, Accuracy: 97.21%\n",
            "Epoch [63/4500], Step [100/391], Loss: 0.1139, Accuracy: 97.54%\n",
            "Epoch [63/4500], Step [200/391], Loss: 0.0663, Accuracy: 97.60%\n",
            "Epoch [63/4500], Step [300/391], Loss: 0.0267, Accuracy: 97.43%\n",
            "Epoch [64/4500], Step [100/391], Loss: 0.1550, Accuracy: 97.36%\n",
            "Epoch [64/4500], Step [200/391], Loss: 0.0728, Accuracy: 97.31%\n",
            "Epoch [64/4500], Step [300/391], Loss: 0.0548, Accuracy: 97.28%\n",
            "Epoch [65/4500], Step [100/391], Loss: 0.0947, Accuracy: 97.73%\n",
            "Epoch [65/4500], Step [200/391], Loss: 0.0609, Accuracy: 97.57%\n",
            "Epoch [65/4500], Step [300/391], Loss: 0.0191, Accuracy: 97.52%\n",
            "Epoch [66/4500], Step [100/391], Loss: 0.0852, Accuracy: 97.61%\n",
            "Epoch [66/4500], Step [200/391], Loss: 0.1011, Accuracy: 97.49%\n",
            "Epoch [66/4500], Step [300/391], Loss: 0.0810, Accuracy: 97.51%\n",
            "Epoch [67/4500], Step [100/391], Loss: 0.0277, Accuracy: 97.64%\n",
            "Epoch [67/4500], Step [200/391], Loss: 0.0577, Accuracy: 97.59%\n",
            "Epoch [67/4500], Step [300/391], Loss: 0.0890, Accuracy: 97.46%\n",
            "Epoch [68/4500], Step [100/391], Loss: 0.1481, Accuracy: 97.77%\n",
            "Epoch [68/4500], Step [200/391], Loss: 0.0479, Accuracy: 97.66%\n",
            "Epoch [68/4500], Step [300/391], Loss: 0.0861, Accuracy: 97.67%\n",
            "Epoch [69/4500], Step [100/391], Loss: 0.0894, Accuracy: 97.79%\n",
            "Epoch [69/4500], Step [200/391], Loss: 0.0458, Accuracy: 97.79%\n",
            "Epoch [69/4500], Step [300/391], Loss: 0.0843, Accuracy: 97.61%\n",
            "Epoch [70/4500], Step [100/391], Loss: 0.0233, Accuracy: 97.97%\n",
            "Epoch [70/4500], Step [200/391], Loss: 0.0336, Accuracy: 97.88%\n",
            "Epoch [70/4500], Step [300/391], Loss: 0.0463, Accuracy: 97.88%\n",
            "Epoch [71/4500], Step [100/391], Loss: 0.0234, Accuracy: 98.08%\n",
            "Epoch [71/4500], Step [200/391], Loss: 0.0326, Accuracy: 97.92%\n",
            "Epoch [71/4500], Step [300/391], Loss: 0.0290, Accuracy: 97.85%\n",
            "Epoch [72/4500], Step [100/391], Loss: 0.0522, Accuracy: 98.16%\n",
            "Epoch [72/4500], Step [200/391], Loss: 0.0765, Accuracy: 97.95%\n",
            "Epoch [72/4500], Step [300/391], Loss: 0.0444, Accuracy: 97.83%\n",
            "Epoch [73/4500], Step [100/391], Loss: 0.0303, Accuracy: 98.34%\n",
            "Epoch [73/4500], Step [200/391], Loss: 0.0767, Accuracy: 98.21%\n",
            "Epoch [73/4500], Step [300/391], Loss: 0.0693, Accuracy: 98.12%\n",
            "Epoch [74/4500], Step [100/391], Loss: 0.0950, Accuracy: 98.15%\n",
            "Epoch [74/4500], Step [200/391], Loss: 0.0378, Accuracy: 98.12%\n",
            "Epoch [74/4500], Step [300/391], Loss: 0.0448, Accuracy: 97.95%\n",
            "Epoch [75/4500], Step [100/391], Loss: 0.1244, Accuracy: 97.93%\n",
            "Epoch [75/4500], Step [200/391], Loss: 0.0245, Accuracy: 97.83%\n",
            "Epoch [75/4500], Step [300/391], Loss: 0.1019, Accuracy: 97.78%\n",
            "Epoch [76/4500], Step [100/391], Loss: 0.0234, Accuracy: 98.13%\n",
            "Epoch [76/4500], Step [200/391], Loss: 0.0641, Accuracy: 98.11%\n",
            "Epoch [76/4500], Step [300/391], Loss: 0.0512, Accuracy: 98.10%\n",
            "Epoch [77/4500], Step [100/391], Loss: 0.0487, Accuracy: 98.09%\n",
            "Epoch [77/4500], Step [200/391], Loss: 0.0161, Accuracy: 98.16%\n",
            "Epoch [77/4500], Step [300/391], Loss: 0.0265, Accuracy: 98.09%\n",
            "Epoch [78/4500], Step [100/391], Loss: 0.0074, Accuracy: 98.28%\n",
            "Epoch [78/4500], Step [200/391], Loss: 0.0480, Accuracy: 98.11%\n",
            "Epoch [78/4500], Step [300/391], Loss: 0.0445, Accuracy: 98.21%\n",
            "Epoch [79/4500], Step [100/391], Loss: 0.0614, Accuracy: 98.15%\n",
            "Epoch [79/4500], Step [200/391], Loss: 0.1023, Accuracy: 98.14%\n",
            "Epoch [79/4500], Step [300/391], Loss: 0.0857, Accuracy: 98.12%\n",
            "Epoch [80/4500], Step [100/391], Loss: 0.0624, Accuracy: 98.26%\n",
            "Epoch [80/4500], Step [200/391], Loss: 0.0136, Accuracy: 98.22%\n",
            "Epoch [80/4500], Step [300/391], Loss: 0.0322, Accuracy: 98.16%\n",
            "Epoch [81/4500], Step [100/391], Loss: 0.0732, Accuracy: 98.09%\n",
            "Epoch [81/4500], Step [200/391], Loss: 0.0586, Accuracy: 97.93%\n",
            "Epoch [81/4500], Step [300/391], Loss: 0.0724, Accuracy: 98.05%\n",
            "Epoch [82/4500], Step [100/391], Loss: 0.0492, Accuracy: 98.24%\n",
            "Epoch [82/4500], Step [200/391], Loss: 0.1107, Accuracy: 98.36%\n",
            "Epoch [82/4500], Step [300/391], Loss: 0.0628, Accuracy: 98.27%\n",
            "Epoch [83/4500], Step [100/391], Loss: 0.0476, Accuracy: 98.15%\n",
            "Epoch [83/4500], Step [200/391], Loss: 0.0260, Accuracy: 98.39%\n",
            "Epoch [83/4500], Step [300/391], Loss: 0.0375, Accuracy: 98.36%\n",
            "Epoch [84/4500], Step [100/391], Loss: 0.0524, Accuracy: 98.45%\n",
            "Epoch [84/4500], Step [200/391], Loss: 0.0678, Accuracy: 98.34%\n",
            "Epoch [84/4500], Step [300/391], Loss: 0.0362, Accuracy: 98.42%\n",
            "Epoch [85/4500], Step [100/391], Loss: 0.0335, Accuracy: 98.11%\n",
            "Epoch [85/4500], Step [200/391], Loss: 0.0053, Accuracy: 98.09%\n",
            "Epoch [85/4500], Step [300/391], Loss: 0.0612, Accuracy: 98.22%\n",
            "Epoch [86/4500], Step [100/391], Loss: 0.0156, Accuracy: 98.42%\n",
            "Epoch [86/4500], Step [200/391], Loss: 0.0196, Accuracy: 98.45%\n",
            "Epoch [86/4500], Step [300/391], Loss: 0.0503, Accuracy: 98.35%\n",
            "Epoch [87/4500], Step [100/391], Loss: 0.0691, Accuracy: 98.59%\n",
            "Epoch [87/4500], Step [200/391], Loss: 0.0259, Accuracy: 98.48%\n",
            "Epoch [87/4500], Step [300/391], Loss: 0.0169, Accuracy: 98.35%\n",
            "Epoch [88/4500], Step [100/391], Loss: 0.0725, Accuracy: 98.45%\n",
            "Epoch [88/4500], Step [200/391], Loss: 0.1512, Accuracy: 98.45%\n",
            "Epoch [88/4500], Step [300/391], Loss: 0.0105, Accuracy: 98.39%\n",
            "Epoch [89/4500], Step [100/391], Loss: 0.0183, Accuracy: 98.48%\n",
            "Epoch [89/4500], Step [200/391], Loss: 0.0729, Accuracy: 98.54%\n",
            "Epoch [89/4500], Step [300/391], Loss: 0.0626, Accuracy: 98.43%\n",
            "Epoch [90/4500], Step [100/391], Loss: 0.0106, Accuracy: 98.66%\n",
            "Epoch [90/4500], Step [200/391], Loss: 0.0123, Accuracy: 98.60%\n",
            "Epoch [90/4500], Step [300/391], Loss: 0.0285, Accuracy: 98.58%\n",
            "Epoch [91/4500], Step [100/391], Loss: 0.0420, Accuracy: 98.44%\n",
            "Epoch [91/4500], Step [200/391], Loss: 0.0245, Accuracy: 98.46%\n",
            "Epoch [91/4500], Step [300/391], Loss: 0.0913, Accuracy: 98.41%\n",
            "Epoch [92/4500], Step [100/391], Loss: 0.0243, Accuracy: 98.59%\n",
            "Epoch [92/4500], Step [200/391], Loss: 0.0448, Accuracy: 98.59%\n",
            "Epoch [92/4500], Step [300/391], Loss: 0.0528, Accuracy: 98.59%\n",
            "Epoch [93/4500], Step [100/391], Loss: 0.0064, Accuracy: 98.37%\n",
            "Epoch [93/4500], Step [200/391], Loss: 0.0367, Accuracy: 98.26%\n",
            "Epoch [93/4500], Step [300/391], Loss: 0.0187, Accuracy: 98.52%\n",
            "Epoch [94/4500], Step [100/391], Loss: 0.0203, Accuracy: 98.81%\n",
            "Epoch [94/4500], Step [200/391], Loss: 0.0552, Accuracy: 98.77%\n",
            "Epoch [94/4500], Step [300/391], Loss: 0.0617, Accuracy: 98.70%\n",
            "Epoch [95/4500], Step [100/391], Loss: 0.0321, Accuracy: 98.79%\n",
            "Epoch [95/4500], Step [200/391], Loss: 0.0441, Accuracy: 98.61%\n",
            "Epoch [95/4500], Step [300/391], Loss: 0.0475, Accuracy: 98.63%\n",
            "Epoch [96/4500], Step [100/391], Loss: 0.0546, Accuracy: 98.80%\n",
            "Epoch [96/4500], Step [200/391], Loss: 0.0169, Accuracy: 98.77%\n",
            "Epoch [96/4500], Step [300/391], Loss: 0.0504, Accuracy: 98.73%\n",
            "Epoch [97/4500], Step [100/391], Loss: 0.0127, Accuracy: 98.47%\n",
            "Epoch [97/4500], Step [200/391], Loss: 0.0120, Accuracy: 98.59%\n",
            "Epoch [97/4500], Step [300/391], Loss: 0.0109, Accuracy: 98.64%\n",
            "Epoch [98/4500], Step [100/391], Loss: 0.0362, Accuracy: 98.77%\n",
            "Epoch [98/4500], Step [200/391], Loss: 0.0231, Accuracy: 98.75%\n",
            "Epoch [98/4500], Step [300/391], Loss: 0.0099, Accuracy: 98.69%\n",
            "Epoch [99/4500], Step [100/391], Loss: 0.0199, Accuracy: 98.77%\n",
            "Epoch [99/4500], Step [200/391], Loss: 0.0528, Accuracy: 98.80%\n",
            "Epoch [99/4500], Step [300/391], Loss: 0.0337, Accuracy: 98.70%\n",
            "Epoch [100/4500], Step [100/391], Loss: 0.0100, Accuracy: 98.60%\n",
            "Epoch [100/4500], Step [200/391], Loss: 0.0560, Accuracy: 98.57%\n",
            "Epoch [100/4500], Step [300/391], Loss: 0.0544, Accuracy: 98.60%\n",
            "Epoch [101/4500], Step [100/391], Loss: 0.0258, Accuracy: 98.70%\n",
            "Epoch [101/4500], Step [200/391], Loss: 0.0380, Accuracy: 98.73%\n",
            "Epoch [101/4500], Step [300/391], Loss: 0.0562, Accuracy: 98.71%\n",
            "Saving model after 100 epochs as smd10_100.pth\n",
            "Epoch [102/4500], Step [100/391], Loss: 0.0089, Accuracy: 98.90%\n",
            "Epoch [102/4500], Step [200/391], Loss: 0.0484, Accuracy: 98.76%\n",
            "Epoch [102/4500], Step [300/391], Loss: 0.0153, Accuracy: 98.79%\n",
            "Epoch [103/4500], Step [100/391], Loss: 0.0126, Accuracy: 98.92%\n",
            "Epoch [103/4500], Step [200/391], Loss: 0.0161, Accuracy: 99.00%\n",
            "Epoch [103/4500], Step [300/391], Loss: 0.0186, Accuracy: 98.84%\n",
            "Epoch [104/4500], Step [100/391], Loss: 0.0413, Accuracy: 98.86%\n",
            "Epoch [104/4500], Step [200/391], Loss: 0.0268, Accuracy: 98.95%\n",
            "Epoch [104/4500], Step [300/391], Loss: 0.0825, Accuracy: 98.84%\n",
            "Epoch [105/4500], Step [100/391], Loss: 0.0110, Accuracy: 98.78%\n",
            "Epoch [105/4500], Step [200/391], Loss: 0.0131, Accuracy: 98.79%\n",
            "Epoch [105/4500], Step [300/391], Loss: 0.0139, Accuracy: 98.91%\n",
            "Epoch [106/4500], Step [100/391], Loss: 0.0250, Accuracy: 98.86%\n",
            "Epoch [106/4500], Step [200/391], Loss: 0.0078, Accuracy: 98.87%\n",
            "Epoch [106/4500], Step [300/391], Loss: 0.0466, Accuracy: 98.92%\n",
            "Epoch [107/4500], Step [100/391], Loss: 0.0095, Accuracy: 98.97%\n",
            "Epoch [107/4500], Step [200/391], Loss: 0.0167, Accuracy: 98.93%\n",
            "Epoch [107/4500], Step [300/391], Loss: 0.0310, Accuracy: 98.88%\n",
            "Epoch [108/4500], Step [100/391], Loss: 0.0365, Accuracy: 98.84%\n",
            "Epoch [108/4500], Step [200/391], Loss: 0.0082, Accuracy: 98.82%\n",
            "Epoch [108/4500], Step [300/391], Loss: 0.0460, Accuracy: 98.88%\n",
            "Epoch [109/4500], Step [100/391], Loss: 0.0069, Accuracy: 98.81%\n",
            "Epoch [109/4500], Step [200/391], Loss: 0.0433, Accuracy: 98.83%\n",
            "Epoch [109/4500], Step [300/391], Loss: 0.0341, Accuracy: 98.83%\n",
            "Epoch [110/4500], Step [100/391], Loss: 0.0367, Accuracy: 98.98%\n",
            "Epoch [110/4500], Step [200/391], Loss: 0.0155, Accuracy: 99.04%\n",
            "Epoch [110/4500], Step [300/391], Loss: 0.0175, Accuracy: 98.96%\n",
            "Epoch [111/4500], Step [100/391], Loss: 0.0248, Accuracy: 98.90%\n",
            "Epoch [111/4500], Step [200/391], Loss: 0.0236, Accuracy: 98.96%\n",
            "Epoch [111/4500], Step [300/391], Loss: 0.0595, Accuracy: 98.92%\n",
            "Epoch [112/4500], Step [100/391], Loss: 0.0280, Accuracy: 99.03%\n",
            "Epoch [112/4500], Step [200/391], Loss: 0.0148, Accuracy: 99.02%\n",
            "Epoch [112/4500], Step [300/391], Loss: 0.0898, Accuracy: 98.88%\n",
            "Epoch [113/4500], Step [100/391], Loss: 0.0297, Accuracy: 98.91%\n",
            "Epoch [113/4500], Step [200/391], Loss: 0.0520, Accuracy: 98.89%\n",
            "Epoch [113/4500], Step [300/391], Loss: 0.0220, Accuracy: 98.88%\n",
            "Epoch [114/4500], Step [100/391], Loss: 0.0245, Accuracy: 99.17%\n",
            "Epoch [114/4500], Step [200/391], Loss: 0.0123, Accuracy: 99.06%\n",
            "Epoch [114/4500], Step [300/391], Loss: 0.0571, Accuracy: 99.03%\n",
            "Epoch [115/4500], Step [100/391], Loss: 0.0015, Accuracy: 99.08%\n",
            "Epoch [115/4500], Step [200/391], Loss: 0.0944, Accuracy: 98.92%\n",
            "Epoch [115/4500], Step [300/391], Loss: 0.0102, Accuracy: 98.89%\n",
            "Epoch [116/4500], Step [100/391], Loss: 0.0028, Accuracy: 99.36%\n",
            "Epoch [116/4500], Step [200/391], Loss: 0.0938, Accuracy: 99.12%\n",
            "Epoch [116/4500], Step [300/391], Loss: 0.0049, Accuracy: 99.04%\n",
            "Epoch [117/4500], Step [100/391], Loss: 0.0468, Accuracy: 99.12%\n",
            "Epoch [117/4500], Step [200/391], Loss: 0.0337, Accuracy: 99.20%\n",
            "Epoch [117/4500], Step [300/391], Loss: 0.0140, Accuracy: 99.19%\n",
            "Epoch [118/4500], Step [100/391], Loss: 0.0248, Accuracy: 99.03%\n",
            "Epoch [118/4500], Step [200/391], Loss: 0.0324, Accuracy: 99.07%\n",
            "Epoch [118/4500], Step [300/391], Loss: 0.0381, Accuracy: 99.01%\n",
            "Epoch [119/4500], Step [100/391], Loss: 0.0127, Accuracy: 98.88%\n",
            "Epoch [119/4500], Step [200/391], Loss: 0.0162, Accuracy: 98.98%\n",
            "Epoch [119/4500], Step [300/391], Loss: 0.0456, Accuracy: 99.05%\n",
            "Epoch [120/4500], Step [100/391], Loss: 0.0524, Accuracy: 99.10%\n"
          ],
          "name": "stdout"
        }
      ]
    },
    {
      "cell_type": "code",
      "metadata": {
        "id": "5aeAKNSY0dFP",
        "colab_type": "code",
        "colab": {
          "base_uri": "https://localhost:8080/",
          "height": 265
        },
        "outputId": "0a46d434-ed47-45fc-9f99-d2399f991fd5"
      },
      "source": [
        "w_ = w.detach().cpu().numpy()\n",
        "np.save('smd10',w_)\n",
        "lim = 0.1\n",
        "import numpy as np\n",
        "import matplotlib.pyplot as plt\n",
        "wabs = np.abs(w_)\n",
        "id = np.where(wabs <= lim)\n",
        "w1 = wabs[id]\n",
        "plt.hist(w1, bins=100)\n",
        "plt.show()"
      ],
      "execution_count": null,
      "outputs": [
        {
          "output_type": "display_data",
          "data": {
            "image/png": "[encoded data removed]",
            "text/plain": [
              "<Figure size 432x288 with 1 Axes>"
            ]
          },
          "metadata": {
            "tags": [],
            "needs_background": "light"
          }
        }
      ]
    }
  ]
}